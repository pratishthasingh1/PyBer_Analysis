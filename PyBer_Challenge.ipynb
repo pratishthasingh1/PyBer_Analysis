{
  "nbformat": 4,
  "nbformat_minor": 0,
  "metadata": {
    "anaconda-cloud": {},
    "kernelspec": {
      "display_name": "PythonData",
      "language": "python",
      "name": "pythondata"
    },
    "language_info": {
      "codemirror_mode": {
        "name": "ipython",
        "version": 3
      },
      "file_extension": ".py",
      "mimetype": "text/x-python",
      "name": "python",
      "nbconvert_exporter": "python",
      "pygments_lexer": "ipython3",
      "version": "3.8.3"
    },
    "colab": {
      "name": "PyBer_Challenge.ipynb",
      "provenance": [],
      "toc_visible": true,
      "include_colab_link": true
    }
  },
  "cells": [
    {
      "cell_type": "markdown",
      "metadata": {
        "id": "view-in-github",
        "colab_type": "text"
      },
      "source": [
        "<a href=\"https://colab.research.google.com/github/pratishthasingh1/PyBer_Analysis/blob/master/PyBer_Challenge.ipynb\" target=\"_parent\"><img src=\"https://colab.research.google.com/assets/colab-badge.svg\" alt=\"Open In Colab\"/></a>"
      ]
    },
    {
      "cell_type": "markdown",
      "metadata": {
        "id": "gGtzX0Z32SOV",
        "colab_type": "text"
      },
      "source": [
        "# Pyber Challenge"
      ]
    },
    {
      "cell_type": "markdown",
      "metadata": {
        "id": "lWoCcUHe2SOV",
        "colab_type": "text"
      },
      "source": [
        "### 4.3 Loading and Reading CSV files"
      ]
    },
    {
      "cell_type": "code",
      "metadata": {
        "id": "us7KxdP62SOW",
        "colab_type": "code",
        "colab": {}
      },
      "source": [
        "# Add Matplotlib inline magic command\n",
        "%matplotlib inline\n",
        "# Dependencies and Setup\n",
        "import matplotlib.pyplot as plt\n",
        "import pandas as pd\n",
        "import numpy as np\n",
        "\n",
        "# File to Load (Remember to change these)\n",
        "city_data_to_load = \"city_data.csv\"\n",
        "ride_data_to_load = \"ride_data.csv\"\n",
        "\n",
        "# Read the City and Ride Data\n",
        "city_data_df = pd.read_csv(city_data_to_load)\n",
        "ride_data_df = pd.read_csv(ride_data_to_load)"
      ],
      "execution_count": 136,
      "outputs": []
    },
    {
      "cell_type": "markdown",
      "metadata": {
        "id": "CwyJLUWO2SOZ",
        "colab_type": "text"
      },
      "source": [
        "### Merge the DataFrames"
      ]
    },
    {
      "cell_type": "code",
      "metadata": {
        "scrolled": true,
        "id": "v9K7IkVq2SOa",
        "colab_type": "code",
        "colab": {
          "base_uri": "https://localhost:8080/",
          "height": 204
        },
        "outputId": "93fb7cdc-3954-40dd-c8a0-56f36c7ddedc"
      },
      "source": [
        "# Combine the data into a single dataset\n",
        "pyber_data_df = pd.merge(ride_data_df, city_data_df, how=\"left\", on=[\"city\", \"city\"])\n",
        "\n",
        "# Display the data table for preview\n",
        "pyber_data_df.head()"
      ],
      "execution_count": 137,
      "outputs": [
        {
          "output_type": "execute_result",
          "data": {
            "text/html": [
              "<div>\n",
              "<style scoped>\n",
              "    .dataframe tbody tr th:only-of-type {\n",
              "        vertical-align: middle;\n",
              "    }\n",
              "\n",
              "    .dataframe tbody tr th {\n",
              "        vertical-align: top;\n",
              "    }\n",
              "\n",
              "    .dataframe thead th {\n",
              "        text-align: right;\n",
              "    }\n",
              "</style>\n",
              "<table border=\"1\" class=\"dataframe\">\n",
              "  <thead>\n",
              "    <tr style=\"text-align: right;\">\n",
              "      <th></th>\n",
              "      <th>city</th>\n",
              "      <th>date</th>\n",
              "      <th>fare</th>\n",
              "      <th>ride_id</th>\n",
              "      <th>driver_count</th>\n",
              "      <th>type</th>\n",
              "    </tr>\n",
              "  </thead>\n",
              "  <tbody>\n",
              "    <tr>\n",
              "      <th>0</th>\n",
              "      <td>Lake Jonathanshire</td>\n",
              "      <td>2019-01-14 10:14:22</td>\n",
              "      <td>13.83</td>\n",
              "      <td>5739410935873</td>\n",
              "      <td>5</td>\n",
              "      <td>Urban</td>\n",
              "    </tr>\n",
              "    <tr>\n",
              "      <th>1</th>\n",
              "      <td>South Michelleport</td>\n",
              "      <td>2019-03-04 18:24:09</td>\n",
              "      <td>30.24</td>\n",
              "      <td>2343912425577</td>\n",
              "      <td>72</td>\n",
              "      <td>Urban</td>\n",
              "    </tr>\n",
              "    <tr>\n",
              "      <th>2</th>\n",
              "      <td>Port Samanthamouth</td>\n",
              "      <td>2019-02-24 04:29:00</td>\n",
              "      <td>33.44</td>\n",
              "      <td>2005065760003</td>\n",
              "      <td>57</td>\n",
              "      <td>Urban</td>\n",
              "    </tr>\n",
              "    <tr>\n",
              "      <th>3</th>\n",
              "      <td>Rodneyfort</td>\n",
              "      <td>2019-02-10 23:22:03</td>\n",
              "      <td>23.44</td>\n",
              "      <td>5149245426178</td>\n",
              "      <td>34</td>\n",
              "      <td>Urban</td>\n",
              "    </tr>\n",
              "    <tr>\n",
              "      <th>4</th>\n",
              "      <td>South Jack</td>\n",
              "      <td>2019-03-06 04:28:35</td>\n",
              "      <td>34.58</td>\n",
              "      <td>3908451377344</td>\n",
              "      <td>46</td>\n",
              "      <td>Urban</td>\n",
              "    </tr>\n",
              "  </tbody>\n",
              "</table>\n",
              "</div>"
            ],
            "text/plain": [
              "                 city                 date  ...  driver_count   type\n",
              "0  Lake Jonathanshire  2019-01-14 10:14:22  ...             5  Urban\n",
              "1  South Michelleport  2019-03-04 18:24:09  ...            72  Urban\n",
              "2  Port Samanthamouth  2019-02-24 04:29:00  ...            57  Urban\n",
              "3          Rodneyfort  2019-02-10 23:22:03  ...            34  Urban\n",
              "4          South Jack  2019-03-06 04:28:35  ...            46  Urban\n",
              "\n",
              "[5 rows x 6 columns]"
            ]
          },
          "metadata": {
            "tags": []
          },
          "execution_count": 137
        }
      ]
    },
    {
      "cell_type": "markdown",
      "metadata": {
        "id": "rjEp8E182SOd",
        "colab_type": "text"
      },
      "source": [
        "## Deliverable 1: Get a Summary DataFrame "
      ]
    },
    {
      "cell_type": "code",
      "metadata": {
        "id": "w6ijPIYG2SOd",
        "colab_type": "code",
        "colab": {
          "base_uri": "https://localhost:8080/",
          "height": 102
        },
        "outputId": "d74e813f-dc85-4e5e-cd95-79c3b04552da"
      },
      "source": [
        "total_ride_city=pyber_data_df.groupby(['type']).count()['ride_id']\n",
        "total_ride_city"
      ],
      "execution_count": 138,
      "outputs": [
        {
          "output_type": "execute_result",
          "data": {
            "text/plain": [
              "type\n",
              "Rural        125\n",
              "Suburban     625\n",
              "Urban       1625\n",
              "Name: ride_id, dtype: int64"
            ]
          },
          "metadata": {
            "tags": []
          },
          "execution_count": 138
        }
      ]
    },
    {
      "cell_type": "code",
      "metadata": {
        "id": "2DITly3x2SOh",
        "colab_type": "code",
        "colab": {
          "base_uri": "https://localhost:8080/",
          "height": 34
        },
        "outputId": "148d6de7-f850-4357-c741-9f74d6d1113c"
      },
      "source": [
        "#  1. Get the total rides for each city type\n",
        "#total urban rides\n",
        "urban_cities_df = pyber_data_df[pyber_data_df[\"type\"]==\"Urban\"]\n",
        "urban_ride_count = urban_cities_df.groupby([\"city\"]).count()[\"ride_id\"]\n",
        "urban_ride_count.sum()"
      ],
      "execution_count": 139,
      "outputs": [
        {
          "output_type": "execute_result",
          "data": {
            "text/plain": [
              "1625"
            ]
          },
          "metadata": {
            "tags": []
          },
          "execution_count": 139
        }
      ]
    },
    {
      "cell_type": "code",
      "metadata": {
        "id": "RvfxJ38c2SOj",
        "colab_type": "code",
        "colab": {
          "base_uri": "https://localhost:8080/",
          "height": 34
        },
        "outputId": "5a7aacd0-35a0-44a8-8264-c498c2aded65"
      },
      "source": [
        "#total suburban rides\n",
        "suburban_cities_df = pyber_data_df[pyber_data_df[\"type\"]==\"Suburban\"]\n",
        "suburban_ride_count = suburban_cities_df.groupby([\"city\"]).count()[\"ride_id\"]\n",
        "suburban_ride_count.sum()"
      ],
      "execution_count": 140,
      "outputs": [
        {
          "output_type": "execute_result",
          "data": {
            "text/plain": [
              "625"
            ]
          },
          "metadata": {
            "tags": []
          },
          "execution_count": 140
        }
      ]
    },
    {
      "cell_type": "code",
      "metadata": {
        "id": "-LiF_cIo2SOl",
        "colab_type": "code",
        "colab": {
          "base_uri": "https://localhost:8080/",
          "height": 34
        },
        "outputId": "284b8ea2-752b-4688-d782-1dca812ecce3"
      },
      "source": [
        "#total rural rides\n",
        "rural_cities_df = pyber_data_df[pyber_data_df[\"type\"]==\"Rural\"]\n",
        "rural_ride_count = rural_cities_df.groupby([\"city\"]).count()[\"ride_id\"]\n",
        "rural_ride_count.sum()"
      ],
      "execution_count": 141,
      "outputs": [
        {
          "output_type": "execute_result",
          "data": {
            "text/plain": [
              "125"
            ]
          },
          "metadata": {
            "tags": []
          },
          "execution_count": 141
        }
      ]
    },
    {
      "cell_type": "code",
      "metadata": {
        "id": "fciiUCFx2SOo",
        "colab_type": "code",
        "colab": {
          "base_uri": "https://localhost:8080/",
          "height": 102
        },
        "outputId": "d920369a-e178-4486-beb6-ce3a20127f33"
      },
      "source": [
        "# 2. Get the total drivers for each city type\n",
        "driver_count = city_data_df.groupby([\"type\"]).sum()[\"driver_count\"]\n",
        "driver_count"
      ],
      "execution_count": 142,
      "outputs": [
        {
          "output_type": "execute_result",
          "data": {
            "text/plain": [
              "type\n",
              "Rural         78\n",
              "Suburban     490\n",
              "Urban       2405\n",
              "Name: driver_count, dtype: int64"
            ]
          },
          "metadata": {
            "tags": []
          },
          "execution_count": 142
        }
      ]
    },
    {
      "cell_type": "code",
      "metadata": {
        "id": "6mg49Y672SOr",
        "colab_type": "code",
        "colab": {
          "base_uri": "https://localhost:8080/",
          "height": 34
        },
        "outputId": "963d1e1e-68d3-40e9-f9ec-36ee487730ed"
      },
      "source": [
        "urban_driver_count = urban_cities_df.groupby([\"type\"]).sum()[\"driver_count\"]\n",
        "urban_driver_count.sum()"
      ],
      "execution_count": 143,
      "outputs": [
        {
          "output_type": "execute_result",
          "data": {
            "text/plain": [
              "59602"
            ]
          },
          "metadata": {
            "tags": []
          },
          "execution_count": 143
        }
      ]
    },
    {
      "cell_type": "code",
      "metadata": {
        "id": "ye-qg1Nb2SOt",
        "colab_type": "code",
        "colab": {
          "base_uri": "https://localhost:8080/",
          "height": 34
        },
        "outputId": "b348e37f-0a07-4a34-8893-e448a48ae873"
      },
      "source": [
        "suburban_driver_count = suburban_cities_df.groupby([\"type\"]).sum()[\"driver_count\"]\n",
        "suburban_driver_count.sum()"
      ],
      "execution_count": 144,
      "outputs": [
        {
          "output_type": "execute_result",
          "data": {
            "text/plain": [
              "8570"
            ]
          },
          "metadata": {
            "tags": []
          },
          "execution_count": 144
        }
      ]
    },
    {
      "cell_type": "code",
      "metadata": {
        "id": "0VltqFjo2SOv",
        "colab_type": "code",
        "colab": {
          "base_uri": "https://localhost:8080/",
          "height": 34
        },
        "outputId": "3d7a5f7a-8298-4e6b-a801-e3f9ecff0858"
      },
      "source": [
        "rural_driver_count = rural_cities_df.groupby([\"type\"]).sum()[\"driver_count\"]\n",
        "rural_driver_count.sum()"
      ],
      "execution_count": 145,
      "outputs": [
        {
          "output_type": "execute_result",
          "data": {
            "text/plain": [
              "537"
            ]
          },
          "metadata": {
            "tags": []
          },
          "execution_count": 145
        }
      ]
    },
    {
      "cell_type": "code",
      "metadata": {
        "id": "vkBx_AVC2SOx",
        "colab_type": "code",
        "colab": {
          "base_uri": "https://localhost:8080/",
          "height": 102
        },
        "outputId": "00c6b70d-394d-4eb0-c7f2-31c697f01355"
      },
      "source": [
        "#  3. Get the total amount of fares for each city type\n",
        "total_fares = pyber_data_df.groupby([\"type\"]).sum() [\"fare\"]\n",
        "total_fares"
      ],
      "execution_count": 146,
      "outputs": [
        {
          "output_type": "execute_result",
          "data": {
            "text/plain": [
              "type\n",
              "Rural        4327.93\n",
              "Suburban    19356.33\n",
              "Urban       39854.38\n",
              "Name: fare, dtype: float64"
            ]
          },
          "metadata": {
            "tags": []
          },
          "execution_count": 146
        }
      ]
    },
    {
      "cell_type": "code",
      "metadata": {
        "id": "YxTR8tdj2SOz",
        "colab_type": "code",
        "colab": {
          "base_uri": "https://localhost:8080/",
          "height": 34
        },
        "outputId": "3476b613-d49f-4d25-d8f4-4e3ccf95af15"
      },
      "source": [
        "urban_fares = urban_cities_df[\"fare\"].sum()\n",
        "urban_fares"
      ],
      "execution_count": 147,
      "outputs": [
        {
          "output_type": "execute_result",
          "data": {
            "text/plain": [
              "39854.380000000005"
            ]
          },
          "metadata": {
            "tags": []
          },
          "execution_count": 147
        }
      ]
    },
    {
      "cell_type": "code",
      "metadata": {
        "id": "9EqUnAm32SO2",
        "colab_type": "code",
        "colab": {
          "base_uri": "https://localhost:8080/",
          "height": 34
        },
        "outputId": "f319b38c-2726-4fab-fdc0-f69b57c0a5ef"
      },
      "source": [
        "suburban_fares = suburban_cities_df[\"fare\"].sum()\n",
        "suburban_fares"
      ],
      "execution_count": 148,
      "outputs": [
        {
          "output_type": "execute_result",
          "data": {
            "text/plain": [
              "19356.33"
            ]
          },
          "metadata": {
            "tags": []
          },
          "execution_count": 148
        }
      ]
    },
    {
      "cell_type": "code",
      "metadata": {
        "id": "I-Ko0QF52SO4",
        "colab_type": "code",
        "colab": {
          "base_uri": "https://localhost:8080/",
          "height": 34
        },
        "outputId": "c6e25de5-2845-4764-9d5c-3431e9d9e7e5"
      },
      "source": [
        "rural_fares = rural_cities_df[\"fare\"].sum()\n",
        "rural_fares"
      ],
      "execution_count": 149,
      "outputs": [
        {
          "output_type": "execute_result",
          "data": {
            "text/plain": [
              "4327.929999999999"
            ]
          },
          "metadata": {
            "tags": []
          },
          "execution_count": 149
        }
      ]
    },
    {
      "cell_type": "code",
      "metadata": {
        "id": "LUwznav02SO6",
        "colab_type": "code",
        "colab": {
          "base_uri": "https://localhost:8080/",
          "height": 102
        },
        "outputId": "daceabcf-5f7d-401c-93bb-e5812875c7dc"
      },
      "source": [
        "#  4. Get the average fare per ride for each city type. \n",
        "\n",
        "average_fare = pyber_data_df.groupby([\"type\"]).mean() [\"fare\"]\n",
        "average_fare "
      ],
      "execution_count": 150,
      "outputs": [
        {
          "output_type": "execute_result",
          "data": {
            "text/plain": [
              "type\n",
              "Rural       34.623440\n",
              "Suburban    30.970128\n",
              "Urban       24.525772\n",
              "Name: fare, dtype: float64"
            ]
          },
          "metadata": {
            "tags": []
          },
          "execution_count": 150
        }
      ]
    },
    {
      "cell_type": "code",
      "metadata": {
        "id": "J86GV9Tj2SO8",
        "colab_type": "code",
        "colab": {
          "base_uri": "https://localhost:8080/",
          "height": 34
        },
        "outputId": "6deb2d85-c59d-4a7e-ac28-2b529dbd55f4"
      },
      "source": [
        "urban_fares = urban_cities_df[\"fare\"]\n",
        "urban_fares.mean()"
      ],
      "execution_count": 151,
      "outputs": [
        {
          "output_type": "execute_result",
          "data": {
            "text/plain": [
              "24.52577230769236"
            ]
          },
          "metadata": {
            "tags": []
          },
          "execution_count": 151
        }
      ]
    },
    {
      "cell_type": "code",
      "metadata": {
        "id": "OC9O4sPM2SO-",
        "colab_type": "code",
        "colab": {
          "base_uri": "https://localhost:8080/",
          "height": 34
        },
        "outputId": "d8dd29b3-b063-401a-e31c-46058d0fd659"
      },
      "source": [
        "suburban_fares = suburban_cities_df[\"fare\"]\n",
        "suburban_fares.mean()"
      ],
      "execution_count": 152,
      "outputs": [
        {
          "output_type": "execute_result",
          "data": {
            "text/plain": [
              "30.97012800000002"
            ]
          },
          "metadata": {
            "tags": []
          },
          "execution_count": 152
        }
      ]
    },
    {
      "cell_type": "code",
      "metadata": {
        "id": "OqVQMEpy2SPA",
        "colab_type": "code",
        "colab": {
          "base_uri": "https://localhost:8080/",
          "height": 34
        },
        "outputId": "56f2d18d-8cf4-4adc-aaec-b309943e51da"
      },
      "source": [
        "rural_fares = rural_cities_df[\"fare\"]\n",
        "rural_fares.mean()"
      ],
      "execution_count": 153,
      "outputs": [
        {
          "output_type": "execute_result",
          "data": {
            "text/plain": [
              "34.623440000000016"
            ]
          },
          "metadata": {
            "tags": []
          },
          "execution_count": 153
        }
      ]
    },
    {
      "cell_type": "code",
      "metadata": {
        "id": "RFA3VFVG2SPC",
        "colab_type": "code",
        "colab": {
          "base_uri": "https://localhost:8080/",
          "height": 102
        },
        "outputId": "95792a4f-7850-4c25-af4b-80f398b8b6a5"
      },
      "source": [
        "# 5. Get the average fare per driver for each city type. \n",
        "#Average fare for urban\n",
        "average_fare_per_driver = total_fares / driver_count\n",
        "average_fare_per_driver"
      ],
      "execution_count": 154,
      "outputs": [
        {
          "output_type": "execute_result",
          "data": {
            "text/plain": [
              "type\n",
              "Rural       55.486282\n",
              "Suburban    39.502714\n",
              "Urban       16.571468\n",
              "dtype: float64"
            ]
          },
          "metadata": {
            "tags": []
          },
          "execution_count": 154
        }
      ]
    },
    {
      "cell_type": "code",
      "metadata": {
        "id": "QMXRhHkS2SPE",
        "colab_type": "code",
        "colab": {
          "base_uri": "https://localhost:8080/",
          "height": 173
        },
        "outputId": "77baebee-03a9-4861-a578-5f5b43ab6730"
      },
      "source": [
        "#  6. Create a PyBer summary DataFrame. \n",
        "pyber_summary_df = {\"Total Rides\":(total_ride_city),\n",
        "                    \"Total Drivers\": (driver_count),\n",
        "                    \"Total Fares\": (total_fares),\n",
        "                    \"Average Fare per Ride\": (average_fare),\n",
        "                    \"Average Fare per Driver\": (average_fare_per_driver)}\n",
        "pyber_summary_df2 = pd.DataFrame(pyber_summary_df)\n",
        "pyber_summary_df2"
      ],
      "execution_count": 155,
      "outputs": [
        {
          "output_type": "execute_result",
          "data": {
            "text/html": [
              "<div>\n",
              "<style scoped>\n",
              "    .dataframe tbody tr th:only-of-type {\n",
              "        vertical-align: middle;\n",
              "    }\n",
              "\n",
              "    .dataframe tbody tr th {\n",
              "        vertical-align: top;\n",
              "    }\n",
              "\n",
              "    .dataframe thead th {\n",
              "        text-align: right;\n",
              "    }\n",
              "</style>\n",
              "<table border=\"1\" class=\"dataframe\">\n",
              "  <thead>\n",
              "    <tr style=\"text-align: right;\">\n",
              "      <th></th>\n",
              "      <th>Total Rides</th>\n",
              "      <th>Total Drivers</th>\n",
              "      <th>Total Fares</th>\n",
              "      <th>Average Fare per Ride</th>\n",
              "      <th>Average Fare per Driver</th>\n",
              "    </tr>\n",
              "    <tr>\n",
              "      <th>type</th>\n",
              "      <th></th>\n",
              "      <th></th>\n",
              "      <th></th>\n",
              "      <th></th>\n",
              "      <th></th>\n",
              "    </tr>\n",
              "  </thead>\n",
              "  <tbody>\n",
              "    <tr>\n",
              "      <th>Rural</th>\n",
              "      <td>125</td>\n",
              "      <td>78</td>\n",
              "      <td>4327.93</td>\n",
              "      <td>34.623440</td>\n",
              "      <td>55.486282</td>\n",
              "    </tr>\n",
              "    <tr>\n",
              "      <th>Suburban</th>\n",
              "      <td>625</td>\n",
              "      <td>490</td>\n",
              "      <td>19356.33</td>\n",
              "      <td>30.970128</td>\n",
              "      <td>39.502714</td>\n",
              "    </tr>\n",
              "    <tr>\n",
              "      <th>Urban</th>\n",
              "      <td>1625</td>\n",
              "      <td>2405</td>\n",
              "      <td>39854.38</td>\n",
              "      <td>24.525772</td>\n",
              "      <td>16.571468</td>\n",
              "    </tr>\n",
              "  </tbody>\n",
              "</table>\n",
              "</div>"
            ],
            "text/plain": [
              "          Total Rides  ...  Average Fare per Driver\n",
              "type                   ...                         \n",
              "Rural             125  ...                55.486282\n",
              "Suburban          625  ...                39.502714\n",
              "Urban            1625  ...                16.571468\n",
              "\n",
              "[3 rows x 5 columns]"
            ]
          },
          "metadata": {
            "tags": []
          },
          "execution_count": 155
        }
      ]
    },
    {
      "cell_type": "code",
      "metadata": {
        "id": "R9U7DtNd2SPG",
        "colab_type": "code",
        "colab": {}
      },
      "source": [
        "#  7. Cleaning up the DataFrame. Delete the index name\n",
        "pyber_summary_df2.index.name = None"
      ],
      "execution_count": 156,
      "outputs": []
    },
    {
      "cell_type": "code",
      "metadata": {
        "id": "6CDrDxtf2SPI",
        "colab_type": "code",
        "colab": {
          "base_uri": "https://localhost:8080/",
          "height": 103
        },
        "outputId": "420cd8f8-cf55-4b9d-b47f-4bb14bbfe914"
      },
      "source": [
        "#  8. Format the columns.\n",
        "pyber_summary_df2.style.format({\"Total Rides\":\"{:,}\",\n",
        "                    \"Total Drivers\": \"{:,}\" ,\n",
        "                    \"Total Fares\": \"${0:,.2f}\",\n",
        "                    \"Average Fare per Ride\": \"${0:,.2f}\",\n",
        "                    \"Average Fare per Driver\": \"${0:,.2f}\"})\n"
      ],
      "execution_count": 157,
      "outputs": [
        {
          "output_type": "execute_result",
          "data": {
            "text/html": [
              "<style  type=\"text/css\" >\n",
              "</style><table id=\"T_0f69c04c_eaf3_11ea_b2d2_0242ac1c0002\" ><thead>    <tr>        <th class=\"blank level0\" ></th>        <th class=\"col_heading level0 col0\" >Total Rides</th>        <th class=\"col_heading level0 col1\" >Total Drivers</th>        <th class=\"col_heading level0 col2\" >Total Fares</th>        <th class=\"col_heading level0 col3\" >Average Fare per Ride</th>        <th class=\"col_heading level0 col4\" >Average Fare per Driver</th>    </tr></thead><tbody>\n",
              "                <tr>\n",
              "                        <th id=\"T_0f69c04c_eaf3_11ea_b2d2_0242ac1c0002level0_row0\" class=\"row_heading level0 row0\" >Rural</th>\n",
              "                        <td id=\"T_0f69c04c_eaf3_11ea_b2d2_0242ac1c0002row0_col0\" class=\"data row0 col0\" >125</td>\n",
              "                        <td id=\"T_0f69c04c_eaf3_11ea_b2d2_0242ac1c0002row0_col1\" class=\"data row0 col1\" >78</td>\n",
              "                        <td id=\"T_0f69c04c_eaf3_11ea_b2d2_0242ac1c0002row0_col2\" class=\"data row0 col2\" >$4,327.93</td>\n",
              "                        <td id=\"T_0f69c04c_eaf3_11ea_b2d2_0242ac1c0002row0_col3\" class=\"data row0 col3\" >$34.62</td>\n",
              "                        <td id=\"T_0f69c04c_eaf3_11ea_b2d2_0242ac1c0002row0_col4\" class=\"data row0 col4\" >$55.49</td>\n",
              "            </tr>\n",
              "            <tr>\n",
              "                        <th id=\"T_0f69c04c_eaf3_11ea_b2d2_0242ac1c0002level0_row1\" class=\"row_heading level0 row1\" >Suburban</th>\n",
              "                        <td id=\"T_0f69c04c_eaf3_11ea_b2d2_0242ac1c0002row1_col0\" class=\"data row1 col0\" >625</td>\n",
              "                        <td id=\"T_0f69c04c_eaf3_11ea_b2d2_0242ac1c0002row1_col1\" class=\"data row1 col1\" >490</td>\n",
              "                        <td id=\"T_0f69c04c_eaf3_11ea_b2d2_0242ac1c0002row1_col2\" class=\"data row1 col2\" >$19,356.33</td>\n",
              "                        <td id=\"T_0f69c04c_eaf3_11ea_b2d2_0242ac1c0002row1_col3\" class=\"data row1 col3\" >$30.97</td>\n",
              "                        <td id=\"T_0f69c04c_eaf3_11ea_b2d2_0242ac1c0002row1_col4\" class=\"data row1 col4\" >$39.50</td>\n",
              "            </tr>\n",
              "            <tr>\n",
              "                        <th id=\"T_0f69c04c_eaf3_11ea_b2d2_0242ac1c0002level0_row2\" class=\"row_heading level0 row2\" >Urban</th>\n",
              "                        <td id=\"T_0f69c04c_eaf3_11ea_b2d2_0242ac1c0002row2_col0\" class=\"data row2 col0\" >1,625</td>\n",
              "                        <td id=\"T_0f69c04c_eaf3_11ea_b2d2_0242ac1c0002row2_col1\" class=\"data row2 col1\" >2,405</td>\n",
              "                        <td id=\"T_0f69c04c_eaf3_11ea_b2d2_0242ac1c0002row2_col2\" class=\"data row2 col2\" >$39,854.38</td>\n",
              "                        <td id=\"T_0f69c04c_eaf3_11ea_b2d2_0242ac1c0002row2_col3\" class=\"data row2 col3\" >$24.53</td>\n",
              "                        <td id=\"T_0f69c04c_eaf3_11ea_b2d2_0242ac1c0002row2_col4\" class=\"data row2 col4\" >$16.57</td>\n",
              "            </tr>\n",
              "    </tbody></table>"
            ],
            "text/plain": [
              "<pandas.io.formats.style.Styler at 0x7f536a85f438>"
            ]
          },
          "metadata": {
            "tags": []
          },
          "execution_count": 157
        }
      ]
    },
    {
      "cell_type": "markdown",
      "metadata": {
        "id": "38Jxm1ys2SPK",
        "colab_type": "text"
      },
      "source": [
        "## Deliverable 2.  Create a multiple line plot that shows the total weekly of the fares for each type of city."
      ]
    },
    {
      "cell_type": "code",
      "metadata": {
        "id": "uUX-zEQT2SPK",
        "colab_type": "code",
        "colab": {
          "base_uri": "https://localhost:8080/",
          "height": 204
        },
        "outputId": "2f44dbff-34da-4331-d026-a06c720c59c0"
      },
      "source": [
        "# 1. Read the merged DataFrame\n",
        "pyber_data_df.head()"
      ],
      "execution_count": 158,
      "outputs": [
        {
          "output_type": "execute_result",
          "data": {
            "text/html": [
              "<div>\n",
              "<style scoped>\n",
              "    .dataframe tbody tr th:only-of-type {\n",
              "        vertical-align: middle;\n",
              "    }\n",
              "\n",
              "    .dataframe tbody tr th {\n",
              "        vertical-align: top;\n",
              "    }\n",
              "\n",
              "    .dataframe thead th {\n",
              "        text-align: right;\n",
              "    }\n",
              "</style>\n",
              "<table border=\"1\" class=\"dataframe\">\n",
              "  <thead>\n",
              "    <tr style=\"text-align: right;\">\n",
              "      <th></th>\n",
              "      <th>city</th>\n",
              "      <th>date</th>\n",
              "      <th>fare</th>\n",
              "      <th>ride_id</th>\n",
              "      <th>driver_count</th>\n",
              "      <th>type</th>\n",
              "    </tr>\n",
              "  </thead>\n",
              "  <tbody>\n",
              "    <tr>\n",
              "      <th>0</th>\n",
              "      <td>Lake Jonathanshire</td>\n",
              "      <td>2019-01-14 10:14:22</td>\n",
              "      <td>13.83</td>\n",
              "      <td>5739410935873</td>\n",
              "      <td>5</td>\n",
              "      <td>Urban</td>\n",
              "    </tr>\n",
              "    <tr>\n",
              "      <th>1</th>\n",
              "      <td>South Michelleport</td>\n",
              "      <td>2019-03-04 18:24:09</td>\n",
              "      <td>30.24</td>\n",
              "      <td>2343912425577</td>\n",
              "      <td>72</td>\n",
              "      <td>Urban</td>\n",
              "    </tr>\n",
              "    <tr>\n",
              "      <th>2</th>\n",
              "      <td>Port Samanthamouth</td>\n",
              "      <td>2019-02-24 04:29:00</td>\n",
              "      <td>33.44</td>\n",
              "      <td>2005065760003</td>\n",
              "      <td>57</td>\n",
              "      <td>Urban</td>\n",
              "    </tr>\n",
              "    <tr>\n",
              "      <th>3</th>\n",
              "      <td>Rodneyfort</td>\n",
              "      <td>2019-02-10 23:22:03</td>\n",
              "      <td>23.44</td>\n",
              "      <td>5149245426178</td>\n",
              "      <td>34</td>\n",
              "      <td>Urban</td>\n",
              "    </tr>\n",
              "    <tr>\n",
              "      <th>4</th>\n",
              "      <td>South Jack</td>\n",
              "      <td>2019-03-06 04:28:35</td>\n",
              "      <td>34.58</td>\n",
              "      <td>3908451377344</td>\n",
              "      <td>46</td>\n",
              "      <td>Urban</td>\n",
              "    </tr>\n",
              "  </tbody>\n",
              "</table>\n",
              "</div>"
            ],
            "text/plain": [
              "                 city                 date  ...  driver_count   type\n",
              "0  Lake Jonathanshire  2019-01-14 10:14:22  ...             5  Urban\n",
              "1  South Michelleport  2019-03-04 18:24:09  ...            72  Urban\n",
              "2  Port Samanthamouth  2019-02-24 04:29:00  ...            57  Urban\n",
              "3          Rodneyfort  2019-02-10 23:22:03  ...            34  Urban\n",
              "4          South Jack  2019-03-06 04:28:35  ...            46  Urban\n",
              "\n",
              "[5 rows x 6 columns]"
            ]
          },
          "metadata": {
            "tags": []
          },
          "execution_count": 158
        }
      ]
    },
    {
      "cell_type": "code",
      "metadata": {
        "id": "gahPrtBa2SPM",
        "colab_type": "code",
        "colab": {
          "base_uri": "https://localhost:8080/",
          "height": 235
        },
        "outputId": "e7ca7e66-8a41-4478-d148-e2788b49fccc"
      },
      "source": [
        "# 2. Using groupby() to create a new DataFrame showing the sum of the fares \n",
        "#  for each date where the indices are the city type and date.\n",
        "new_df = pyber_data_df.groupby([\"type\", \"date\"]).sum()[[\"fare\"]]\n",
        "new_df.head()"
      ],
      "execution_count": 159,
      "outputs": [
        {
          "output_type": "execute_result",
          "data": {
            "text/html": [
              "<div>\n",
              "<style scoped>\n",
              "    .dataframe tbody tr th:only-of-type {\n",
              "        vertical-align: middle;\n",
              "    }\n",
              "\n",
              "    .dataframe tbody tr th {\n",
              "        vertical-align: top;\n",
              "    }\n",
              "\n",
              "    .dataframe thead th {\n",
              "        text-align: right;\n",
              "    }\n",
              "</style>\n",
              "<table border=\"1\" class=\"dataframe\">\n",
              "  <thead>\n",
              "    <tr style=\"text-align: right;\">\n",
              "      <th></th>\n",
              "      <th></th>\n",
              "      <th>fare</th>\n",
              "    </tr>\n",
              "    <tr>\n",
              "      <th>type</th>\n",
              "      <th>date</th>\n",
              "      <th></th>\n",
              "    </tr>\n",
              "  </thead>\n",
              "  <tbody>\n",
              "    <tr>\n",
              "      <th rowspan=\"5\" valign=\"top\">Rural</th>\n",
              "      <th>2019-01-01 09:45:36</th>\n",
              "      <td>43.69</td>\n",
              "    </tr>\n",
              "    <tr>\n",
              "      <th>2019-01-02 11:18:32</th>\n",
              "      <td>52.12</td>\n",
              "    </tr>\n",
              "    <tr>\n",
              "      <th>2019-01-03 19:51:01</th>\n",
              "      <td>19.90</td>\n",
              "    </tr>\n",
              "    <tr>\n",
              "      <th>2019-01-04 03:31:26</th>\n",
              "      <td>24.88</td>\n",
              "    </tr>\n",
              "    <tr>\n",
              "      <th>2019-01-06 07:38:40</th>\n",
              "      <td>47.33</td>\n",
              "    </tr>\n",
              "  </tbody>\n",
              "</table>\n",
              "</div>"
            ],
            "text/plain": [
              "                            fare\n",
              "type  date                      \n",
              "Rural 2019-01-01 09:45:36  43.69\n",
              "      2019-01-02 11:18:32  52.12\n",
              "      2019-01-03 19:51:01  19.90\n",
              "      2019-01-04 03:31:26  24.88\n",
              "      2019-01-06 07:38:40  47.33"
            ]
          },
          "metadata": {
            "tags": []
          },
          "execution_count": 159
        }
      ]
    },
    {
      "cell_type": "code",
      "metadata": {
        "id": "iw5IfjyV2SPQ",
        "colab_type": "code",
        "colab": {}
      },
      "source": [
        "# 3. Reset the index on the DataFrame you created in #1. This is needed to use the 'pivot()' function.\n",
        "df = new_df.reset_index()"
      ],
      "execution_count": 160,
      "outputs": []
    },
    {
      "cell_type": "code",
      "metadata": {
        "id": "HrMkEadr2SPR",
        "colab_type": "code",
        "colab": {
          "base_uri": "https://localhost:8080/",
          "height": 450
        },
        "outputId": "33d17c95-bbce-4c1c-ad55-4b13fb14419e"
      },
      "source": [
        "# 4. Create a pivot table with the 'date' as the index, the columns ='type', and values='fare' \n",
        "# to get the total fares for each type of city by the date. \n",
        "table = pd.pivot_table(new_df, values='fare', index=['date'],\n",
        "                    columns=['type'], aggfunc=np.sum)\n",
        "table"
      ],
      "execution_count": 161,
      "outputs": [
        {
          "output_type": "execute_result",
          "data": {
            "text/html": [
              "<div>\n",
              "<style scoped>\n",
              "    .dataframe tbody tr th:only-of-type {\n",
              "        vertical-align: middle;\n",
              "    }\n",
              "\n",
              "    .dataframe tbody tr th {\n",
              "        vertical-align: top;\n",
              "    }\n",
              "\n",
              "    .dataframe thead th {\n",
              "        text-align: right;\n",
              "    }\n",
              "</style>\n",
              "<table border=\"1\" class=\"dataframe\">\n",
              "  <thead>\n",
              "    <tr style=\"text-align: right;\">\n",
              "      <th>type</th>\n",
              "      <th>Rural</th>\n",
              "      <th>Suburban</th>\n",
              "      <th>Urban</th>\n",
              "    </tr>\n",
              "    <tr>\n",
              "      <th>date</th>\n",
              "      <th></th>\n",
              "      <th></th>\n",
              "      <th></th>\n",
              "    </tr>\n",
              "  </thead>\n",
              "  <tbody>\n",
              "    <tr>\n",
              "      <th>2019-01-01 00:08:16</th>\n",
              "      <td>NaN</td>\n",
              "      <td>NaN</td>\n",
              "      <td>37.91</td>\n",
              "    </tr>\n",
              "    <tr>\n",
              "      <th>2019-01-01 00:46:46</th>\n",
              "      <td>NaN</td>\n",
              "      <td>47.74</td>\n",
              "      <td>NaN</td>\n",
              "    </tr>\n",
              "    <tr>\n",
              "      <th>2019-01-01 02:07:24</th>\n",
              "      <td>NaN</td>\n",
              "      <td>24.07</td>\n",
              "      <td>NaN</td>\n",
              "    </tr>\n",
              "    <tr>\n",
              "      <th>2019-01-01 03:46:50</th>\n",
              "      <td>NaN</td>\n",
              "      <td>NaN</td>\n",
              "      <td>7.57</td>\n",
              "    </tr>\n",
              "    <tr>\n",
              "      <th>2019-01-01 05:23:21</th>\n",
              "      <td>NaN</td>\n",
              "      <td>NaN</td>\n",
              "      <td>10.75</td>\n",
              "    </tr>\n",
              "    <tr>\n",
              "      <th>...</th>\n",
              "      <td>...</td>\n",
              "      <td>...</td>\n",
              "      <td>...</td>\n",
              "    </tr>\n",
              "    <tr>\n",
              "      <th>2019-05-08 04:20:00</th>\n",
              "      <td>NaN</td>\n",
              "      <td>NaN</td>\n",
              "      <td>21.99</td>\n",
              "    </tr>\n",
              "    <tr>\n",
              "      <th>2019-05-08 04:39:49</th>\n",
              "      <td>NaN</td>\n",
              "      <td>NaN</td>\n",
              "      <td>18.45</td>\n",
              "    </tr>\n",
              "    <tr>\n",
              "      <th>2019-05-08 07:29:01</th>\n",
              "      <td>NaN</td>\n",
              "      <td>NaN</td>\n",
              "      <td>18.55</td>\n",
              "    </tr>\n",
              "    <tr>\n",
              "      <th>2019-05-08 11:38:35</th>\n",
              "      <td>NaN</td>\n",
              "      <td>NaN</td>\n",
              "      <td>19.77</td>\n",
              "    </tr>\n",
              "    <tr>\n",
              "      <th>2019-05-08 13:10:18</th>\n",
              "      <td>NaN</td>\n",
              "      <td>NaN</td>\n",
              "      <td>18.04</td>\n",
              "    </tr>\n",
              "  </tbody>\n",
              "</table>\n",
              "<p>2375 rows × 3 columns</p>\n",
              "</div>"
            ],
            "text/plain": [
              "type                 Rural  Suburban  Urban\n",
              "date                                       \n",
              "2019-01-01 00:08:16    NaN       NaN  37.91\n",
              "2019-01-01 00:46:46    NaN     47.74    NaN\n",
              "2019-01-01 02:07:24    NaN     24.07    NaN\n",
              "2019-01-01 03:46:50    NaN       NaN   7.57\n",
              "2019-01-01 05:23:21    NaN       NaN  10.75\n",
              "...                    ...       ...    ...\n",
              "2019-05-08 04:20:00    NaN       NaN  21.99\n",
              "2019-05-08 04:39:49    NaN       NaN  18.45\n",
              "2019-05-08 07:29:01    NaN       NaN  18.55\n",
              "2019-05-08 11:38:35    NaN       NaN  19.77\n",
              "2019-05-08 13:10:18    NaN       NaN  18.04\n",
              "\n",
              "[2375 rows x 3 columns]"
            ]
          },
          "metadata": {
            "tags": []
          },
          "execution_count": 161
        }
      ]
    },
    {
      "cell_type": "code",
      "metadata": {
        "id": "O9NZW2lX2SPT",
        "colab_type": "code",
        "colab": {
          "base_uri": "https://localhost:8080/",
          "height": 450
        },
        "outputId": "b4dd935c-7c13-4eb4-993a-23c84d0b65ae"
      },
      "source": [
        "# 5. Create a new DataFrame from the pivot table DataFrame using loc on the given dates, '2019-01-01':'2019-04-29'.\n",
        "new_pivot_df = table.loc['2019-01-01':'2019-04-29']\n",
        "new_pivot_df"
      ],
      "execution_count": 162,
      "outputs": [
        {
          "output_type": "execute_result",
          "data": {
            "text/html": [
              "<div>\n",
              "<style scoped>\n",
              "    .dataframe tbody tr th:only-of-type {\n",
              "        vertical-align: middle;\n",
              "    }\n",
              "\n",
              "    .dataframe tbody tr th {\n",
              "        vertical-align: top;\n",
              "    }\n",
              "\n",
              "    .dataframe thead th {\n",
              "        text-align: right;\n",
              "    }\n",
              "</style>\n",
              "<table border=\"1\" class=\"dataframe\">\n",
              "  <thead>\n",
              "    <tr style=\"text-align: right;\">\n",
              "      <th>type</th>\n",
              "      <th>Rural</th>\n",
              "      <th>Suburban</th>\n",
              "      <th>Urban</th>\n",
              "    </tr>\n",
              "    <tr>\n",
              "      <th>date</th>\n",
              "      <th></th>\n",
              "      <th></th>\n",
              "      <th></th>\n",
              "    </tr>\n",
              "  </thead>\n",
              "  <tbody>\n",
              "    <tr>\n",
              "      <th>2019-01-01 00:08:16</th>\n",
              "      <td>NaN</td>\n",
              "      <td>NaN</td>\n",
              "      <td>37.91</td>\n",
              "    </tr>\n",
              "    <tr>\n",
              "      <th>2019-01-01 00:46:46</th>\n",
              "      <td>NaN</td>\n",
              "      <td>47.74</td>\n",
              "      <td>NaN</td>\n",
              "    </tr>\n",
              "    <tr>\n",
              "      <th>2019-01-01 02:07:24</th>\n",
              "      <td>NaN</td>\n",
              "      <td>24.07</td>\n",
              "      <td>NaN</td>\n",
              "    </tr>\n",
              "    <tr>\n",
              "      <th>2019-01-01 03:46:50</th>\n",
              "      <td>NaN</td>\n",
              "      <td>NaN</td>\n",
              "      <td>7.57</td>\n",
              "    </tr>\n",
              "    <tr>\n",
              "      <th>2019-01-01 05:23:21</th>\n",
              "      <td>NaN</td>\n",
              "      <td>NaN</td>\n",
              "      <td>10.75</td>\n",
              "    </tr>\n",
              "    <tr>\n",
              "      <th>...</th>\n",
              "      <td>...</td>\n",
              "      <td>...</td>\n",
              "      <td>...</td>\n",
              "    </tr>\n",
              "    <tr>\n",
              "      <th>2019-04-28 14:28:36</th>\n",
              "      <td>NaN</td>\n",
              "      <td>NaN</td>\n",
              "      <td>11.46</td>\n",
              "    </tr>\n",
              "    <tr>\n",
              "      <th>2019-04-28 16:29:16</th>\n",
              "      <td>NaN</td>\n",
              "      <td>NaN</td>\n",
              "      <td>36.42</td>\n",
              "    </tr>\n",
              "    <tr>\n",
              "      <th>2019-04-28 17:26:52</th>\n",
              "      <td>NaN</td>\n",
              "      <td>NaN</td>\n",
              "      <td>31.43</td>\n",
              "    </tr>\n",
              "    <tr>\n",
              "      <th>2019-04-28 17:38:09</th>\n",
              "      <td>NaN</td>\n",
              "      <td>34.87</td>\n",
              "      <td>NaN</td>\n",
              "    </tr>\n",
              "    <tr>\n",
              "      <th>2019-04-28 19:35:03</th>\n",
              "      <td>NaN</td>\n",
              "      <td>16.96</td>\n",
              "      <td>NaN</td>\n",
              "    </tr>\n",
              "  </tbody>\n",
              "</table>\n",
              "<p>2196 rows × 3 columns</p>\n",
              "</div>"
            ],
            "text/plain": [
              "type                 Rural  Suburban  Urban\n",
              "date                                       \n",
              "2019-01-01 00:08:16    NaN       NaN  37.91\n",
              "2019-01-01 00:46:46    NaN     47.74    NaN\n",
              "2019-01-01 02:07:24    NaN     24.07    NaN\n",
              "2019-01-01 03:46:50    NaN       NaN   7.57\n",
              "2019-01-01 05:23:21    NaN       NaN  10.75\n",
              "...                    ...       ...    ...\n",
              "2019-04-28 14:28:36    NaN       NaN  11.46\n",
              "2019-04-28 16:29:16    NaN       NaN  36.42\n",
              "2019-04-28 17:26:52    NaN       NaN  31.43\n",
              "2019-04-28 17:38:09    NaN     34.87    NaN\n",
              "2019-04-28 19:35:03    NaN     16.96    NaN\n",
              "\n",
              "[2196 rows x 3 columns]"
            ]
          },
          "metadata": {
            "tags": []
          },
          "execution_count": 162
        }
      ]
    },
    {
      "cell_type": "code",
      "metadata": {
        "id": "7hUo9G_a2SPV",
        "colab_type": "code",
        "colab": {
          "base_uri": "https://localhost:8080/",
          "height": 450
        },
        "outputId": "b0b755b2-a32f-4fc4-fb78-b8fef47ca35e"
      },
      "source": [
        "# 6. Set the \"date\" index to datetime datatype. This is necessary to use the resample() method in Step 8.\n",
        "new_pivot_df.index = pd.to_datetime(new_pivot_df.index)\n",
        "new_pivot_df"
      ],
      "execution_count": 163,
      "outputs": [
        {
          "output_type": "execute_result",
          "data": {
            "text/html": [
              "<div>\n",
              "<style scoped>\n",
              "    .dataframe tbody tr th:only-of-type {\n",
              "        vertical-align: middle;\n",
              "    }\n",
              "\n",
              "    .dataframe tbody tr th {\n",
              "        vertical-align: top;\n",
              "    }\n",
              "\n",
              "    .dataframe thead th {\n",
              "        text-align: right;\n",
              "    }\n",
              "</style>\n",
              "<table border=\"1\" class=\"dataframe\">\n",
              "  <thead>\n",
              "    <tr style=\"text-align: right;\">\n",
              "      <th>type</th>\n",
              "      <th>Rural</th>\n",
              "      <th>Suburban</th>\n",
              "      <th>Urban</th>\n",
              "    </tr>\n",
              "    <tr>\n",
              "      <th>date</th>\n",
              "      <th></th>\n",
              "      <th></th>\n",
              "      <th></th>\n",
              "    </tr>\n",
              "  </thead>\n",
              "  <tbody>\n",
              "    <tr>\n",
              "      <th>2019-01-01 00:08:16</th>\n",
              "      <td>NaN</td>\n",
              "      <td>NaN</td>\n",
              "      <td>37.91</td>\n",
              "    </tr>\n",
              "    <tr>\n",
              "      <th>2019-01-01 00:46:46</th>\n",
              "      <td>NaN</td>\n",
              "      <td>47.74</td>\n",
              "      <td>NaN</td>\n",
              "    </tr>\n",
              "    <tr>\n",
              "      <th>2019-01-01 02:07:24</th>\n",
              "      <td>NaN</td>\n",
              "      <td>24.07</td>\n",
              "      <td>NaN</td>\n",
              "    </tr>\n",
              "    <tr>\n",
              "      <th>2019-01-01 03:46:50</th>\n",
              "      <td>NaN</td>\n",
              "      <td>NaN</td>\n",
              "      <td>7.57</td>\n",
              "    </tr>\n",
              "    <tr>\n",
              "      <th>2019-01-01 05:23:21</th>\n",
              "      <td>NaN</td>\n",
              "      <td>NaN</td>\n",
              "      <td>10.75</td>\n",
              "    </tr>\n",
              "    <tr>\n",
              "      <th>...</th>\n",
              "      <td>...</td>\n",
              "      <td>...</td>\n",
              "      <td>...</td>\n",
              "    </tr>\n",
              "    <tr>\n",
              "      <th>2019-04-28 14:28:36</th>\n",
              "      <td>NaN</td>\n",
              "      <td>NaN</td>\n",
              "      <td>11.46</td>\n",
              "    </tr>\n",
              "    <tr>\n",
              "      <th>2019-04-28 16:29:16</th>\n",
              "      <td>NaN</td>\n",
              "      <td>NaN</td>\n",
              "      <td>36.42</td>\n",
              "    </tr>\n",
              "    <tr>\n",
              "      <th>2019-04-28 17:26:52</th>\n",
              "      <td>NaN</td>\n",
              "      <td>NaN</td>\n",
              "      <td>31.43</td>\n",
              "    </tr>\n",
              "    <tr>\n",
              "      <th>2019-04-28 17:38:09</th>\n",
              "      <td>NaN</td>\n",
              "      <td>34.87</td>\n",
              "      <td>NaN</td>\n",
              "    </tr>\n",
              "    <tr>\n",
              "      <th>2019-04-28 19:35:03</th>\n",
              "      <td>NaN</td>\n",
              "      <td>16.96</td>\n",
              "      <td>NaN</td>\n",
              "    </tr>\n",
              "  </tbody>\n",
              "</table>\n",
              "<p>2196 rows × 3 columns</p>\n",
              "</div>"
            ],
            "text/plain": [
              "type                 Rural  Suburban  Urban\n",
              "date                                       \n",
              "2019-01-01 00:08:16    NaN       NaN  37.91\n",
              "2019-01-01 00:46:46    NaN     47.74    NaN\n",
              "2019-01-01 02:07:24    NaN     24.07    NaN\n",
              "2019-01-01 03:46:50    NaN       NaN   7.57\n",
              "2019-01-01 05:23:21    NaN       NaN  10.75\n",
              "...                    ...       ...    ...\n",
              "2019-04-28 14:28:36    NaN       NaN  11.46\n",
              "2019-04-28 16:29:16    NaN       NaN  36.42\n",
              "2019-04-28 17:26:52    NaN       NaN  31.43\n",
              "2019-04-28 17:38:09    NaN     34.87    NaN\n",
              "2019-04-28 19:35:03    NaN     16.96    NaN\n",
              "\n",
              "[2196 rows x 3 columns]"
            ]
          },
          "metadata": {
            "tags": []
          },
          "execution_count": 163
        }
      ]
    },
    {
      "cell_type": "code",
      "metadata": {
        "id": "zesE9pht2SPX",
        "colab_type": "code",
        "colab": {
          "base_uri": "https://localhost:8080/",
          "height": 187
        },
        "outputId": "bd5f66b0-f9eb-4bfb-8bbc-0a0f5ebfef38"
      },
      "source": [
        "# 7. Check that the datatype for the index is datetime using df.info()\n",
        "df.info()"
      ],
      "execution_count": 164,
      "outputs": [
        {
          "output_type": "stream",
          "text": [
            "<class 'pandas.core.frame.DataFrame'>\n",
            "RangeIndex: 2375 entries, 0 to 2374\n",
            "Data columns (total 3 columns):\n",
            " #   Column  Non-Null Count  Dtype  \n",
            "---  ------  --------------  -----  \n",
            " 0   type    2375 non-null   object \n",
            " 1   date    2375 non-null   object \n",
            " 2   fare    2375 non-null   float64\n",
            "dtypes: float64(1), object(2)\n",
            "memory usage: 55.8+ KB\n"
          ],
          "name": "stdout"
        }
      ]
    },
    {
      "cell_type": "code",
      "metadata": {
        "id": "-uT48cv02SPY",
        "colab_type": "code",
        "colab": {
          "base_uri": "https://localhost:8080/",
          "height": 607
        },
        "outputId": "b7903e28-86bc-47b9-d707-f19aec442b8b"
      },
      "source": [
        "# 8. Create a new DataFrame using the \"resample()\" function by week 'W' and get the sum of the fares for each week.\n",
        "df3 = new_pivot_df.resample('W').sum()\n",
        "df3"
      ],
      "execution_count": 165,
      "outputs": [
        {
          "output_type": "execute_result",
          "data": {
            "text/html": [
              "<div>\n",
              "<style scoped>\n",
              "    .dataframe tbody tr th:only-of-type {\n",
              "        vertical-align: middle;\n",
              "    }\n",
              "\n",
              "    .dataframe tbody tr th {\n",
              "        vertical-align: top;\n",
              "    }\n",
              "\n",
              "    .dataframe thead th {\n",
              "        text-align: right;\n",
              "    }\n",
              "</style>\n",
              "<table border=\"1\" class=\"dataframe\">\n",
              "  <thead>\n",
              "    <tr style=\"text-align: right;\">\n",
              "      <th>type</th>\n",
              "      <th>Rural</th>\n",
              "      <th>Suburban</th>\n",
              "      <th>Urban</th>\n",
              "    </tr>\n",
              "    <tr>\n",
              "      <th>date</th>\n",
              "      <th></th>\n",
              "      <th></th>\n",
              "      <th></th>\n",
              "    </tr>\n",
              "  </thead>\n",
              "  <tbody>\n",
              "    <tr>\n",
              "      <th>2019-01-06</th>\n",
              "      <td>187.92</td>\n",
              "      <td>721.60</td>\n",
              "      <td>1661.68</td>\n",
              "    </tr>\n",
              "    <tr>\n",
              "      <th>2019-01-13</th>\n",
              "      <td>67.65</td>\n",
              "      <td>1105.13</td>\n",
              "      <td>2050.43</td>\n",
              "    </tr>\n",
              "    <tr>\n",
              "      <th>2019-01-20</th>\n",
              "      <td>306.00</td>\n",
              "      <td>1218.20</td>\n",
              "      <td>1939.02</td>\n",
              "    </tr>\n",
              "    <tr>\n",
              "      <th>2019-01-27</th>\n",
              "      <td>179.69</td>\n",
              "      <td>1203.28</td>\n",
              "      <td>2129.51</td>\n",
              "    </tr>\n",
              "    <tr>\n",
              "      <th>2019-02-03</th>\n",
              "      <td>333.08</td>\n",
              "      <td>1042.79</td>\n",
              "      <td>2086.94</td>\n",
              "    </tr>\n",
              "    <tr>\n",
              "      <th>2019-02-10</th>\n",
              "      <td>115.80</td>\n",
              "      <td>974.34</td>\n",
              "      <td>2162.64</td>\n",
              "    </tr>\n",
              "    <tr>\n",
              "      <th>2019-02-17</th>\n",
              "      <td>95.82</td>\n",
              "      <td>1045.50</td>\n",
              "      <td>2235.07</td>\n",
              "    </tr>\n",
              "    <tr>\n",
              "      <th>2019-02-24</th>\n",
              "      <td>419.06</td>\n",
              "      <td>1412.74</td>\n",
              "      <td>2466.29</td>\n",
              "    </tr>\n",
              "    <tr>\n",
              "      <th>2019-03-03</th>\n",
              "      <td>175.14</td>\n",
              "      <td>858.46</td>\n",
              "      <td>2218.20</td>\n",
              "    </tr>\n",
              "    <tr>\n",
              "      <th>2019-03-10</th>\n",
              "      <td>303.94</td>\n",
              "      <td>925.27</td>\n",
              "      <td>2470.93</td>\n",
              "    </tr>\n",
              "    <tr>\n",
              "      <th>2019-03-17</th>\n",
              "      <td>163.39</td>\n",
              "      <td>906.20</td>\n",
              "      <td>2044.42</td>\n",
              "    </tr>\n",
              "    <tr>\n",
              "      <th>2019-03-24</th>\n",
              "      <td>189.76</td>\n",
              "      <td>1122.20</td>\n",
              "      <td>2368.37</td>\n",
              "    </tr>\n",
              "    <tr>\n",
              "      <th>2019-03-31</th>\n",
              "      <td>199.42</td>\n",
              "      <td>1045.06</td>\n",
              "      <td>1942.77</td>\n",
              "    </tr>\n",
              "    <tr>\n",
              "      <th>2019-04-07</th>\n",
              "      <td>501.24</td>\n",
              "      <td>1010.73</td>\n",
              "      <td>2356.70</td>\n",
              "    </tr>\n",
              "    <tr>\n",
              "      <th>2019-04-14</th>\n",
              "      <td>269.79</td>\n",
              "      <td>784.82</td>\n",
              "      <td>2390.72</td>\n",
              "    </tr>\n",
              "    <tr>\n",
              "      <th>2019-04-21</th>\n",
              "      <td>214.14</td>\n",
              "      <td>1149.27</td>\n",
              "      <td>2303.80</td>\n",
              "    </tr>\n",
              "    <tr>\n",
              "      <th>2019-04-28</th>\n",
              "      <td>191.85</td>\n",
              "      <td>1357.75</td>\n",
              "      <td>2238.29</td>\n",
              "    </tr>\n",
              "  </tbody>\n",
              "</table>\n",
              "</div>"
            ],
            "text/plain": [
              "type         Rural  Suburban    Urban\n",
              "date                                 \n",
              "2019-01-06  187.92    721.60  1661.68\n",
              "2019-01-13   67.65   1105.13  2050.43\n",
              "2019-01-20  306.00   1218.20  1939.02\n",
              "2019-01-27  179.69   1203.28  2129.51\n",
              "2019-02-03  333.08   1042.79  2086.94\n",
              "2019-02-10  115.80    974.34  2162.64\n",
              "2019-02-17   95.82   1045.50  2235.07\n",
              "2019-02-24  419.06   1412.74  2466.29\n",
              "2019-03-03  175.14    858.46  2218.20\n",
              "2019-03-10  303.94    925.27  2470.93\n",
              "2019-03-17  163.39    906.20  2044.42\n",
              "2019-03-24  189.76   1122.20  2368.37\n",
              "2019-03-31  199.42   1045.06  1942.77\n",
              "2019-04-07  501.24   1010.73  2356.70\n",
              "2019-04-14  269.79    784.82  2390.72\n",
              "2019-04-21  214.14   1149.27  2303.80\n",
              "2019-04-28  191.85   1357.75  2238.29"
            ]
          },
          "metadata": {
            "tags": []
          },
          "execution_count": 165
        }
      ]
    },
    {
      "cell_type": "code",
      "metadata": {
        "id": "wwnLb2dO2SPb",
        "colab_type": "code",
        "colab": {
          "base_uri": "https://localhost:8080/",
          "height": 395
        },
        "outputId": "886934fe-7dc0-43d1-fd35-fc17eadaa499"
      },
      "source": [
        "# 8. Using the object-oriented interface method, plot the resample DataFrame using the df.plot() function. \n",
        "from matplotlib import style\n",
        "style.use('fivethirtyeight')\n",
        "#graph = pf.plot\n",
        "df3.plot(figsize=(15,5))\n",
        "\n",
        "\n",
        "# Import the style from Matplotlib.\n",
        "\n",
        "# Use the graph style fivethirtyeight.\n",
        "##style.use('fivethirtyeight')\n",
        "\n"
      ],
      "execution_count": 166,
      "outputs": [
        {
          "output_type": "execute_result",
          "data": {
            "text/plain": [
              "<matplotlib.axes._subplots.AxesSubplot at 0x7f536a82acf8>"
            ]
          },
          "metadata": {
            "tags": []
          },
          "execution_count": 166
        },
        {
          "output_type": "display_data",
          "data": {
            "image/png": "[encoded data removed]",
            "text/plain": [
              "<Figure size 1080x360 with 1 Axes>"
            ]
          },
          "metadata": {
            "tags": []
          }
        }
      ]
    },
    {
      "cell_type": "code",
      "metadata": {
        "id": "iCavxA702SPc",
        "colab_type": "code",
        "colab": {}
      },
      "source": [
        ""
      ],
      "execution_count": 166,
      "outputs": []
    }
  ]
}