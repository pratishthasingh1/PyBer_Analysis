{
  "nbformat": 4,
  "nbformat_minor": 0,
  "metadata": {
    "anaconda-cloud": {},
    "kernelspec": {
      "display_name": "PythonData",
      "language": "python",
      "name": "pythondata"
    },
    "language_info": {
      "codemirror_mode": {
        "name": "ipython",
        "version": 3
      },
      "file_extension": ".py",
      "mimetype": "text/x-python",
      "name": "python",
      "nbconvert_exporter": "python",
      "pygments_lexer": "ipython3",
      "version": "3.8.3"
    },
    "colab": {
      "name": "PyBer_Challenge.ipynb",
      "provenance": [],
      "toc_visible": true,
      "include_colab_link": true
    }
  },
  "cells": [
    {
      "cell_type": "markdown",
      "metadata": {
        "id": "view-in-github",
        "colab_type": "text"
      },
      "source": [
        "<a href=\"https://colab.research.google.com/github/pratishthasingh1/PyBer_Analysis/blob/master/PyBer_Challenge.ipynb\" target=\"_parent\"><img src=\"https://colab.research.google.com/assets/colab-badge.svg\" alt=\"Open In Colab\"/></a>"
      ]
    },
    {
      "cell_type": "markdown",
      "metadata": {
        "id": "gGtzX0Z32SOV",
        "colab_type": "text"
      },
      "source": [
        "# Pyber Challenge"
      ]
    },
    {
      "cell_type": "markdown",
      "metadata": {
        "id": "lWoCcUHe2SOV",
        "colab_type": "text"
      },
      "source": [
        "### 4.3 Loading and Reading CSV files"
      ]
    },
    {
      "cell_type": "code",
      "metadata": {
        "id": "us7KxdP62SOW",
        "colab_type": "code",
        "colab": {}
      },
      "source": [
        "# Add Matplotlib inline magic command\n",
        "%matplotlib inline\n",
        "# Dependencies and Setup\n",
        "import matplotlib.pyplot as plt\n",
        "import pandas as pd\n",
        "import numpy as np\n",
        "\n",
        "# File to Load (Remember to change these)\n",
        "city_data_to_load = \"city_data.csv\"\n",
        "ride_data_to_load = \"ride_data.csv\"\n",
        "\n",
        "# Read the City and Ride Data\n",
        "city_data_df = pd.read_csv(city_data_to_load)\n",
        "ride_data_df = pd.read_csv(ride_data_to_load)"
      ],
      "execution_count": 203,
      "outputs": []
    },
    {
      "cell_type": "markdown",
      "metadata": {
        "id": "CwyJLUWO2SOZ",
        "colab_type": "text"
      },
      "source": [
        "### Merge the DataFrames"
      ]
    },
    {
      "cell_type": "code",
      "metadata": {
        "scrolled": true,
        "id": "v9K7IkVq2SOa",
        "colab_type": "code",
        "colab": {
          "base_uri": "https://localhost:8080/",
          "height": 204
        },
        "outputId": "ac16d724-a5e2-4ce8-aad3-e360f47739ef"
      },
      "source": [
        "# Combine the data into a single dataset\n",
        "pyber_data_df = pd.merge(ride_data_df, city_data_df, how=\"left\", on=[\"city\", \"city\"])\n",
        "\n",
        "# Display the data table for preview\n",
        "pyber_data_df.head()"
      ],
      "execution_count": 204,
      "outputs": [
        {
          "output_type": "execute_result",
          "data": {
            "text/html": [
              "<div>\n",
              "<style scoped>\n",
              "    .dataframe tbody tr th:only-of-type {\n",
              "        vertical-align: middle;\n",
              "    }\n",
              "\n",
              "    .dataframe tbody tr th {\n",
              "        vertical-align: top;\n",
              "    }\n",
              "\n",
              "    .dataframe thead th {\n",
              "        text-align: right;\n",
              "    }\n",
              "</style>\n",
              "<table border=\"1\" class=\"dataframe\">\n",
              "  <thead>\n",
              "    <tr style=\"text-align: right;\">\n",
              "      <th></th>\n",
              "      <th>city</th>\n",
              "      <th>date</th>\n",
              "      <th>fare</th>\n",
              "      <th>ride_id</th>\n",
              "      <th>driver_count</th>\n",
              "      <th>type</th>\n",
              "    </tr>\n",
              "  </thead>\n",
              "  <tbody>\n",
              "    <tr>\n",
              "      <th>0</th>\n",
              "      <td>Lake Jonathanshire</td>\n",
              "      <td>2019-01-14 10:14:22</td>\n",
              "      <td>13.83</td>\n",
              "      <td>5739410935873</td>\n",
              "      <td>5</td>\n",
              "      <td>Urban</td>\n",
              "    </tr>\n",
              "    <tr>\n",
              "      <th>1</th>\n",
              "      <td>South Michelleport</td>\n",
              "      <td>2019-03-04 18:24:09</td>\n",
              "      <td>30.24</td>\n",
              "      <td>2343912425577</td>\n",
              "      <td>72</td>\n",
              "      <td>Urban</td>\n",
              "    </tr>\n",
              "    <tr>\n",
              "      <th>2</th>\n",
              "      <td>Port Samanthamouth</td>\n",
              "      <td>2019-02-24 04:29:00</td>\n",
              "      <td>33.44</td>\n",
              "      <td>2005065760003</td>\n",
              "      <td>57</td>\n",
              "      <td>Urban</td>\n",
              "    </tr>\n",
              "    <tr>\n",
              "      <th>3</th>\n",
              "      <td>Rodneyfort</td>\n",
              "      <td>2019-02-10 23:22:03</td>\n",
              "      <td>23.44</td>\n",
              "      <td>5149245426178</td>\n",
              "      <td>34</td>\n",
              "      <td>Urban</td>\n",
              "    </tr>\n",
              "    <tr>\n",
              "      <th>4</th>\n",
              "      <td>South Jack</td>\n",
              "      <td>2019-03-06 04:28:35</td>\n",
              "      <td>34.58</td>\n",
              "      <td>3908451377344</td>\n",
              "      <td>46</td>\n",
              "      <td>Urban</td>\n",
              "    </tr>\n",
              "  </tbody>\n",
              "</table>\n",
              "</div>"
            ],
            "text/plain": [
              "                 city                 date  ...  driver_count   type\n",
              "0  Lake Jonathanshire  2019-01-14 10:14:22  ...             5  Urban\n",
              "1  South Michelleport  2019-03-04 18:24:09  ...            72  Urban\n",
              "2  Port Samanthamouth  2019-02-24 04:29:00  ...            57  Urban\n",
              "3          Rodneyfort  2019-02-10 23:22:03  ...            34  Urban\n",
              "4          South Jack  2019-03-06 04:28:35  ...            46  Urban\n",
              "\n",
              "[5 rows x 6 columns]"
            ]
          },
          "metadata": {
            "tags": []
          },
          "execution_count": 204
        }
      ]
    },
    {
      "cell_type": "markdown",
      "metadata": {
        "id": "rjEp8E182SOd",
        "colab_type": "text"
      },
      "source": [
        "## Deliverable 1: Get a Summary DataFrame "
      ]
    },
    {
      "cell_type": "code",
      "metadata": {
        "id": "w6ijPIYG2SOd",
        "colab_type": "code",
        "colab": {
          "base_uri": "https://localhost:8080/",
          "height": 102
        },
        "outputId": "c3ea43f5-cd59-464c-a831-3284a6bfd42e"
      },
      "source": [
        "total_ride_city=pyber_data_df.groupby(['type']).count()['ride_id']\n",
        "total_ride_city"
      ],
      "execution_count": 205,
      "outputs": [
        {
          "output_type": "execute_result",
          "data": {
            "text/plain": [
              "type\n",
              "Rural        125\n",
              "Suburban     625\n",
              "Urban       1625\n",
              "Name: ride_id, dtype: int64"
            ]
          },
          "metadata": {
            "tags": []
          },
          "execution_count": 205
        }
      ]
    },
    {
      "cell_type": "code",
      "metadata": {
        "id": "2DITly3x2SOh",
        "colab_type": "code",
        "colab": {
          "base_uri": "https://localhost:8080/",
          "height": 34
        },
        "outputId": "a69fc54c-00db-43fe-f56c-e9aae0241548"
      },
      "source": [
        "#  1. Get the total rides for each city type\n",
        "#total urban rides\n",
        "urban_cities_df = pyber_data_df[pyber_data_df[\"type\"]==\"Urban\"]\n",
        "urban_ride_count = urban_cities_df.groupby([\"city\"]).count()[\"ride_id\"]\n",
        "urban_ride_count.sum()"
      ],
      "execution_count": 206,
      "outputs": [
        {
          "output_type": "execute_result",
          "data": {
            "text/plain": [
              "1625"
            ]
          },
          "metadata": {
            "tags": []
          },
          "execution_count": 206
        }
      ]
    },
    {
      "cell_type": "code",
      "metadata": {
        "id": "RvfxJ38c2SOj",
        "colab_type": "code",
        "colab": {
          "base_uri": "https://localhost:8080/",
          "height": 34
        },
        "outputId": "f78e49ac-476b-49c7-9088-6d127ce465c0"
      },
      "source": [
        "#total suburban rides\n",
        "suburban_cities_df = pyber_data_df[pyber_data_df[\"type\"]==\"Suburban\"]\n",
        "suburban_ride_count = suburban_cities_df.groupby([\"city\"]).count()[\"ride_id\"]\n",
        "suburban_ride_count.sum()"
      ],
      "execution_count": 207,
      "outputs": [
        {
          "output_type": "execute_result",
          "data": {
            "text/plain": [
              "625"
            ]
          },
          "metadata": {
            "tags": []
          },
          "execution_count": 207
        }
      ]
    },
    {
      "cell_type": "code",
      "metadata": {
        "id": "-LiF_cIo2SOl",
        "colab_type": "code",
        "colab": {
          "base_uri": "https://localhost:8080/",
          "height": 34
        },
        "outputId": "ae9f84af-2a0e-4557-ab9b-dd39d3151657"
      },
      "source": [
        "#total rural rides\n",
        "rural_cities_df = pyber_data_df[pyber_data_df[\"type\"]==\"Rural\"]\n",
        "rural_ride_count = rural_cities_df.groupby([\"city\"]).count()[\"ride_id\"]\n",
        "rural_ride_count.sum()"
      ],
      "execution_count": 208,
      "outputs": [
        {
          "output_type": "execute_result",
          "data": {
            "text/plain": [
              "125"
            ]
          },
          "metadata": {
            "tags": []
          },
          "execution_count": 208
        }
      ]
    },
    {
      "cell_type": "code",
      "metadata": {
        "id": "fciiUCFx2SOo",
        "colab_type": "code",
        "colab": {
          "base_uri": "https://localhost:8080/",
          "height": 102
        },
        "outputId": "068a5be2-28f0-49f6-843c-e535ef99f489"
      },
      "source": [
        "# 2. Get the total drivers for each city type\n",
        "driver_count = city_data_df.groupby([\"type\"]).sum()[\"driver_count\"]\n",
        "driver_count"
      ],
      "execution_count": 209,
      "outputs": [
        {
          "output_type": "execute_result",
          "data": {
            "text/plain": [
              "type\n",
              "Rural         78\n",
              "Suburban     490\n",
              "Urban       2405\n",
              "Name: driver_count, dtype: int64"
            ]
          },
          "metadata": {
            "tags": []
          },
          "execution_count": 209
        }
      ]
    },
    {
      "cell_type": "code",
      "metadata": {
        "id": "6mg49Y672SOr",
        "colab_type": "code",
        "colab": {
          "base_uri": "https://localhost:8080/",
          "height": 34
        },
        "outputId": "687424c2-edfe-42b1-98d2-49f08ac2d49b"
      },
      "source": [
        "urban_driver_count = urban_cities_df.groupby([\"type\"]).sum()[\"driver_count\"]\n",
        "urban_driver_count.sum()"
      ],
      "execution_count": 210,
      "outputs": [
        {
          "output_type": "execute_result",
          "data": {
            "text/plain": [
              "59602"
            ]
          },
          "metadata": {
            "tags": []
          },
          "execution_count": 210
        }
      ]
    },
    {
      "cell_type": "code",
      "metadata": {
        "id": "ye-qg1Nb2SOt",
        "colab_type": "code",
        "colab": {
          "base_uri": "https://localhost:8080/",
          "height": 34
        },
        "outputId": "25d5dff5-b4d3-4d57-e90e-af2cf3b90ae9"
      },
      "source": [
        "suburban_driver_count = suburban_cities_df.groupby([\"type\"]).sum()[\"driver_count\"]\n",
        "suburban_driver_count.sum()"
      ],
      "execution_count": 211,
      "outputs": [
        {
          "output_type": "execute_result",
          "data": {
            "text/plain": [
              "8570"
            ]
          },
          "metadata": {
            "tags": []
          },
          "execution_count": 211
        }
      ]
    },
    {
      "cell_type": "code",
      "metadata": {
        "id": "0VltqFjo2SOv",
        "colab_type": "code",
        "colab": {
          "base_uri": "https://localhost:8080/",
          "height": 34
        },
        "outputId": "437285a5-1c80-4b02-83b5-fd00f8420a50"
      },
      "source": [
        "rural_driver_count = rural_cities_df.groupby([\"type\"]).sum()[\"driver_count\"]\n",
        "rural_driver_count.sum()"
      ],
      "execution_count": 212,
      "outputs": [
        {
          "output_type": "execute_result",
          "data": {
            "text/plain": [
              "537"
            ]
          },
          "metadata": {
            "tags": []
          },
          "execution_count": 212
        }
      ]
    },
    {
      "cell_type": "code",
      "metadata": {
        "id": "vkBx_AVC2SOx",
        "colab_type": "code",
        "colab": {
          "base_uri": "https://localhost:8080/",
          "height": 102
        },
        "outputId": "f9121adc-2bfb-4703-ba50-bd1e8bc8bca0"
      },
      "source": [
        "#  3. Get the total amount of fares for each city type\n",
        "total_fares = pyber_data_df.groupby([\"type\"]).sum() [\"fare\"]\n",
        "total_fares"
      ],
      "execution_count": 213,
      "outputs": [
        {
          "output_type": "execute_result",
          "data": {
            "text/plain": [
              "type\n",
              "Rural        4327.93\n",
              "Suburban    19356.33\n",
              "Urban       39854.38\n",
              "Name: fare, dtype: float64"
            ]
          },
          "metadata": {
            "tags": []
          },
          "execution_count": 213
        }
      ]
    },
    {
      "cell_type": "code",
      "metadata": {
        "id": "YxTR8tdj2SOz",
        "colab_type": "code",
        "colab": {
          "base_uri": "https://localhost:8080/",
          "height": 34
        },
        "outputId": "00201639-78ae-4d0d-8225-95bae2212aef"
      },
      "source": [
        "urban_fares = urban_cities_df[\"fare\"].sum()\n",
        "urban_fares"
      ],
      "execution_count": 214,
      "outputs": [
        {
          "output_type": "execute_result",
          "data": {
            "text/plain": [
              "39854.380000000005"
            ]
          },
          "metadata": {
            "tags": []
          },
          "execution_count": 214
        }
      ]
    },
    {
      "cell_type": "code",
      "metadata": {
        "id": "9EqUnAm32SO2",
        "colab_type": "code",
        "colab": {
          "base_uri": "https://localhost:8080/",
          "height": 34
        },
        "outputId": "dbefcc13-60d8-4230-fdff-ff249caa541a"
      },
      "source": [
        "suburban_fares = suburban_cities_df[\"fare\"].sum()\n",
        "suburban_fares"
      ],
      "execution_count": 215,
      "outputs": [
        {
          "output_type": "execute_result",
          "data": {
            "text/plain": [
              "19356.33"
            ]
          },
          "metadata": {
            "tags": []
          },
          "execution_count": 215
        }
      ]
    },
    {
      "cell_type": "code",
      "metadata": {
        "id": "I-Ko0QF52SO4",
        "colab_type": "code",
        "colab": {
          "base_uri": "https://localhost:8080/",
          "height": 34
        },
        "outputId": "f82a1bc2-32ff-447d-952a-ab4a85ae7aba"
      },
      "source": [
        "rural_fares = rural_cities_df[\"fare\"].sum()\n",
        "rural_fares"
      ],
      "execution_count": 216,
      "outputs": [
        {
          "output_type": "execute_result",
          "data": {
            "text/plain": [
              "4327.929999999999"
            ]
          },
          "metadata": {
            "tags": []
          },
          "execution_count": 216
        }
      ]
    },
    {
      "cell_type": "code",
      "metadata": {
        "id": "LUwznav02SO6",
        "colab_type": "code",
        "colab": {
          "base_uri": "https://localhost:8080/",
          "height": 102
        },
        "outputId": "c89cef67-9396-48cb-f019-3197e875f2d3"
      },
      "source": [
        "#  4. Get the average fare per ride for each city type. \n",
        "\n",
        "average_fare = pyber_data_df.groupby([\"type\"]).mean() [\"fare\"]\n",
        "average_fare "
      ],
      "execution_count": 217,
      "outputs": [
        {
          "output_type": "execute_result",
          "data": {
            "text/plain": [
              "type\n",
              "Rural       34.623440\n",
              "Suburban    30.970128\n",
              "Urban       24.525772\n",
              "Name: fare, dtype: float64"
            ]
          },
          "metadata": {
            "tags": []
          },
          "execution_count": 217
        }
      ]
    },
    {
      "cell_type": "code",
      "metadata": {
        "id": "J86GV9Tj2SO8",
        "colab_type": "code",
        "colab": {
          "base_uri": "https://localhost:8080/",
          "height": 34
        },
        "outputId": "4a1014b5-3a0d-48be-cd8e-94bab9f37c9e"
      },
      "source": [
        "urban_fares = urban_cities_df[\"fare\"]\n",
        "urban_fares.mean()"
      ],
      "execution_count": 218,
      "outputs": [
        {
          "output_type": "execute_result",
          "data": {
            "text/plain": [
              "24.52577230769236"
            ]
          },
          "metadata": {
            "tags": []
          },
          "execution_count": 218
        }
      ]
    },
    {
      "cell_type": "code",
      "metadata": {
        "id": "OC9O4sPM2SO-",
        "colab_type": "code",
        "colab": {
          "base_uri": "https://localhost:8080/",
          "height": 34
        },
        "outputId": "46fcddf8-51cf-4cac-f864-3d971bdbdf62"
      },
      "source": [
        "suburban_fares = suburban_cities_df[\"fare\"]\n",
        "suburban_fares.mean()"
      ],
      "execution_count": 219,
      "outputs": [
        {
          "output_type": "execute_result",
          "data": {
            "text/plain": [
              "30.97012800000002"
            ]
          },
          "metadata": {
            "tags": []
          },
          "execution_count": 219
        }
      ]
    },
    {
      "cell_type": "code",
      "metadata": {
        "id": "OqVQMEpy2SPA",
        "colab_type": "code",
        "colab": {
          "base_uri": "https://localhost:8080/",
          "height": 34
        },
        "outputId": "1cc4a740-94b7-4dca-f59f-588acc656c6f"
      },
      "source": [
        "rural_fares = rural_cities_df[\"fare\"]\n",
        "rural_fares.mean()"
      ],
      "execution_count": 220,
      "outputs": [
        {
          "output_type": "execute_result",
          "data": {
            "text/plain": [
              "34.623440000000016"
            ]
          },
          "metadata": {
            "tags": []
          },
          "execution_count": 220
        }
      ]
    },
    {
      "cell_type": "code",
      "metadata": {
        "id": "RFA3VFVG2SPC",
        "colab_type": "code",
        "colab": {
          "base_uri": "https://localhost:8080/",
          "height": 102
        },
        "outputId": "db96ec9d-458b-420f-c114-64c614bbd781"
      },
      "source": [
        "# 5. Get the average fare per driver for each city type. \n",
        "#Average fare for urban\n",
        "average_fare_per_driver = total_fares / driver_count\n",
        "average_fare_per_driver"
      ],
      "execution_count": 221,
      "outputs": [
        {
          "output_type": "execute_result",
          "data": {
            "text/plain": [
              "type\n",
              "Rural       55.486282\n",
              "Suburban    39.502714\n",
              "Urban       16.571468\n",
              "dtype: float64"
            ]
          },
          "metadata": {
            "tags": []
          },
          "execution_count": 221
        }
      ]
    },
    {
      "cell_type": "code",
      "metadata": {
        "id": "QMXRhHkS2SPE",
        "colab_type": "code",
        "colab": {
          "base_uri": "https://localhost:8080/",
          "height": 173
        },
        "outputId": "fa64f8c4-f21d-4163-f092-e80d5f574a14"
      },
      "source": [
        "#  6. Create a PyBer summary DataFrame. \n",
        "pyber_summary_df = {\"Total Rides\":(total_ride_city),\n",
        "                    \"Total Drivers\": (driver_count),\n",
        "                    \"Total Fares\": (total_fares),\n",
        "                    \"Average Fare per Ride\": (average_fare),\n",
        "                    \"Average Fare per Driver\": (average_fare_per_driver)}\n",
        "pyber_summary_df2 = pd.DataFrame(pyber_summary_df)\n",
        "pyber_summary_df2"
      ],
      "execution_count": 222,
      "outputs": [
        {
          "output_type": "execute_result",
          "data": {
            "text/html": [
              "<div>\n",
              "<style scoped>\n",
              "    .dataframe tbody tr th:only-of-type {\n",
              "        vertical-align: middle;\n",
              "    }\n",
              "\n",
              "    .dataframe tbody tr th {\n",
              "        vertical-align: top;\n",
              "    }\n",
              "\n",
              "    .dataframe thead th {\n",
              "        text-align: right;\n",
              "    }\n",
              "</style>\n",
              "<table border=\"1\" class=\"dataframe\">\n",
              "  <thead>\n",
              "    <tr style=\"text-align: right;\">\n",
              "      <th></th>\n",
              "      <th>Total Rides</th>\n",
              "      <th>Total Drivers</th>\n",
              "      <th>Total Fares</th>\n",
              "      <th>Average Fare per Ride</th>\n",
              "      <th>Average Fare per Driver</th>\n",
              "    </tr>\n",
              "    <tr>\n",
              "      <th>type</th>\n",
              "      <th></th>\n",
              "      <th></th>\n",
              "      <th></th>\n",
              "      <th></th>\n",
              "      <th></th>\n",
              "    </tr>\n",
              "  </thead>\n",
              "  <tbody>\n",
              "    <tr>\n",
              "      <th>Rural</th>\n",
              "      <td>125</td>\n",
              "      <td>78</td>\n",
              "      <td>4327.93</td>\n",
              "      <td>34.623440</td>\n",
              "      <td>55.486282</td>\n",
              "    </tr>\n",
              "    <tr>\n",
              "      <th>Suburban</th>\n",
              "      <td>625</td>\n",
              "      <td>490</td>\n",
              "      <td>19356.33</td>\n",
              "      <td>30.970128</td>\n",
              "      <td>39.502714</td>\n",
              "    </tr>\n",
              "    <tr>\n",
              "      <th>Urban</th>\n",
              "      <td>1625</td>\n",
              "      <td>2405</td>\n",
              "      <td>39854.38</td>\n",
              "      <td>24.525772</td>\n",
              "      <td>16.571468</td>\n",
              "    </tr>\n",
              "  </tbody>\n",
              "</table>\n",
              "</div>"
            ],
            "text/plain": [
              "          Total Rides  ...  Average Fare per Driver\n",
              "type                   ...                         \n",
              "Rural             125  ...                55.486282\n",
              "Suburban          625  ...                39.502714\n",
              "Urban            1625  ...                16.571468\n",
              "\n",
              "[3 rows x 5 columns]"
            ]
          },
          "metadata": {
            "tags": []
          },
          "execution_count": 222
        }
      ]
    },
    {
      "cell_type": "code",
      "metadata": {
        "id": "R9U7DtNd2SPG",
        "colab_type": "code",
        "colab": {}
      },
      "source": [
        "#  7. Cleaning up the DataFrame. Delete the index name\n",
        "pyber_summary_df2.index.name = None"
      ],
      "execution_count": 223,
      "outputs": []
    },
    {
      "cell_type": "code",
      "metadata": {
        "id": "6CDrDxtf2SPI",
        "colab_type": "code",
        "colab": {
          "base_uri": "https://localhost:8080/",
          "height": 103
        },
        "outputId": "1f1a98de-8535-44dd-98a9-7934ca603a77"
      },
      "source": [
        "#  8. Format the columns.\n",
        "pyber_summary_df2.style.format({\"Total Rides\":\"{:,}\",\n",
        "                    \"Total Drivers\": \"{:,}\" ,\n",
        "                    \"Total Fares\": \"${0:,.2f}\",\n",
        "                    \"Average Fare per Ride\": \"${0:,.2f}\",\n",
        "                    \"Average Fare per Driver\": \"${0:,.2f}\"})\n"
      ],
      "execution_count": 224,
      "outputs": [
        {
          "output_type": "execute_result",
          "data": {
            "text/html": [
              "<style  type=\"text/css\" >\n",
              "</style><table id=\"T_d1978c26_eafd_11ea_b2d2_0242ac1c0002\" ><thead>    <tr>        <th class=\"blank level0\" ></th>        <th class=\"col_heading level0 col0\" >Total Rides</th>        <th class=\"col_heading level0 col1\" >Total Drivers</th>        <th class=\"col_heading level0 col2\" >Total Fares</th>        <th class=\"col_heading level0 col3\" >Average Fare per Ride</th>        <th class=\"col_heading level0 col4\" >Average Fare per Driver</th>    </tr></thead><tbody>\n",
              "                <tr>\n",
              "                        <th id=\"T_d1978c26_eafd_11ea_b2d2_0242ac1c0002level0_row0\" class=\"row_heading level0 row0\" >Rural</th>\n",
              "                        <td id=\"T_d1978c26_eafd_11ea_b2d2_0242ac1c0002row0_col0\" class=\"data row0 col0\" >125</td>\n",
              "                        <td id=\"T_d1978c26_eafd_11ea_b2d2_0242ac1c0002row0_col1\" class=\"data row0 col1\" >78</td>\n",
              "                        <td id=\"T_d1978c26_eafd_11ea_b2d2_0242ac1c0002row0_col2\" class=\"data row0 col2\" >$4,327.93</td>\n",
              "                        <td id=\"T_d1978c26_eafd_11ea_b2d2_0242ac1c0002row0_col3\" class=\"data row0 col3\" >$34.62</td>\n",
              "                        <td id=\"T_d1978c26_eafd_11ea_b2d2_0242ac1c0002row0_col4\" class=\"data row0 col4\" >$55.49</td>\n",
              "            </tr>\n",
              "            <tr>\n",
              "                        <th id=\"T_d1978c26_eafd_11ea_b2d2_0242ac1c0002level0_row1\" class=\"row_heading level0 row1\" >Suburban</th>\n",
              "                        <td id=\"T_d1978c26_eafd_11ea_b2d2_0242ac1c0002row1_col0\" class=\"data row1 col0\" >625</td>\n",
              "                        <td id=\"T_d1978c26_eafd_11ea_b2d2_0242ac1c0002row1_col1\" class=\"data row1 col1\" >490</td>\n",
              "                        <td id=\"T_d1978c26_eafd_11ea_b2d2_0242ac1c0002row1_col2\" class=\"data row1 col2\" >$19,356.33</td>\n",
              "                        <td id=\"T_d1978c26_eafd_11ea_b2d2_0242ac1c0002row1_col3\" class=\"data row1 col3\" >$30.97</td>\n",
              "                        <td id=\"T_d1978c26_eafd_11ea_b2d2_0242ac1c0002row1_col4\" class=\"data row1 col4\" >$39.50</td>\n",
              "            </tr>\n",
              "            <tr>\n",
              "                        <th id=\"T_d1978c26_eafd_11ea_b2d2_0242ac1c0002level0_row2\" class=\"row_heading level0 row2\" >Urban</th>\n",
              "                        <td id=\"T_d1978c26_eafd_11ea_b2d2_0242ac1c0002row2_col0\" class=\"data row2 col0\" >1,625</td>\n",
              "                        <td id=\"T_d1978c26_eafd_11ea_b2d2_0242ac1c0002row2_col1\" class=\"data row2 col1\" >2,405</td>\n",
              "                        <td id=\"T_d1978c26_eafd_11ea_b2d2_0242ac1c0002row2_col2\" class=\"data row2 col2\" >$39,854.38</td>\n",
              "                        <td id=\"T_d1978c26_eafd_11ea_b2d2_0242ac1c0002row2_col3\" class=\"data row2 col3\" >$24.53</td>\n",
              "                        <td id=\"T_d1978c26_eafd_11ea_b2d2_0242ac1c0002row2_col4\" class=\"data row2 col4\" >$16.57</td>\n",
              "            </tr>\n",
              "    </tbody></table>"
            ],
            "text/plain": [
              "<pandas.io.formats.style.Styler at 0x7f536a503860>"
            ]
          },
          "metadata": {
            "tags": []
          },
          "execution_count": 224
        }
      ]
    },
    {
      "cell_type": "markdown",
      "metadata": {
        "id": "38Jxm1ys2SPK",
        "colab_type": "text"
      },
      "source": [
        "## Deliverable 2.  Create a multiple line plot that shows the total weekly of the fares for each type of city."
      ]
    },
    {
      "cell_type": "code",
      "metadata": {
        "id": "uUX-zEQT2SPK",
        "colab_type": "code",
        "colab": {
          "base_uri": "https://localhost:8080/",
          "height": 204
        },
        "outputId": "c5be0e61-3b18-4b7c-8c69-9d83e63e2565"
      },
      "source": [
        "# 1. Read the merged DataFrame\n",
        "pyber_data_df.head()"
      ],
      "execution_count": 225,
      "outputs": [
        {
          "output_type": "execute_result",
          "data": {
            "text/html": [
              "<div>\n",
              "<style scoped>\n",
              "    .dataframe tbody tr th:only-of-type {\n",
              "        vertical-align: middle;\n",
              "    }\n",
              "\n",
              "    .dataframe tbody tr th {\n",
              "        vertical-align: top;\n",
              "    }\n",
              "\n",
              "    .dataframe thead th {\n",
              "        text-align: right;\n",
              "    }\n",
              "</style>\n",
              "<table border=\"1\" class=\"dataframe\">\n",
              "  <thead>\n",
              "    <tr style=\"text-align: right;\">\n",
              "      <th></th>\n",
              "      <th>city</th>\n",
              "      <th>date</th>\n",
              "      <th>fare</th>\n",
              "      <th>ride_id</th>\n",
              "      <th>driver_count</th>\n",
              "      <th>type</th>\n",
              "    </tr>\n",
              "  </thead>\n",
              "  <tbody>\n",
              "    <tr>\n",
              "      <th>0</th>\n",
              "      <td>Lake Jonathanshire</td>\n",
              "      <td>2019-01-14 10:14:22</td>\n",
              "      <td>13.83</td>\n",
              "      <td>5739410935873</td>\n",
              "      <td>5</td>\n",
              "      <td>Urban</td>\n",
              "    </tr>\n",
              "    <tr>\n",
              "      <th>1</th>\n",
              "      <td>South Michelleport</td>\n",
              "      <td>2019-03-04 18:24:09</td>\n",
              "      <td>30.24</td>\n",
              "      <td>2343912425577</td>\n",
              "      <td>72</td>\n",
              "      <td>Urban</td>\n",
              "    </tr>\n",
              "    <tr>\n",
              "      <th>2</th>\n",
              "      <td>Port Samanthamouth</td>\n",
              "      <td>2019-02-24 04:29:00</td>\n",
              "      <td>33.44</td>\n",
              "      <td>2005065760003</td>\n",
              "      <td>57</td>\n",
              "      <td>Urban</td>\n",
              "    </tr>\n",
              "    <tr>\n",
              "      <th>3</th>\n",
              "      <td>Rodneyfort</td>\n",
              "      <td>2019-02-10 23:22:03</td>\n",
              "      <td>23.44</td>\n",
              "      <td>5149245426178</td>\n",
              "      <td>34</td>\n",
              "      <td>Urban</td>\n",
              "    </tr>\n",
              "    <tr>\n",
              "      <th>4</th>\n",
              "      <td>South Jack</td>\n",
              "      <td>2019-03-06 04:28:35</td>\n",
              "      <td>34.58</td>\n",
              "      <td>3908451377344</td>\n",
              "      <td>46</td>\n",
              "      <td>Urban</td>\n",
              "    </tr>\n",
              "  </tbody>\n",
              "</table>\n",
              "</div>"
            ],
            "text/plain": [
              "                 city                 date  ...  driver_count   type\n",
              "0  Lake Jonathanshire  2019-01-14 10:14:22  ...             5  Urban\n",
              "1  South Michelleport  2019-03-04 18:24:09  ...            72  Urban\n",
              "2  Port Samanthamouth  2019-02-24 04:29:00  ...            57  Urban\n",
              "3          Rodneyfort  2019-02-10 23:22:03  ...            34  Urban\n",
              "4          South Jack  2019-03-06 04:28:35  ...            46  Urban\n",
              "\n",
              "[5 rows x 6 columns]"
            ]
          },
          "metadata": {
            "tags": []
          },
          "execution_count": 225
        }
      ]
    },
    {
      "cell_type": "code",
      "metadata": {
        "id": "gahPrtBa2SPM",
        "colab_type": "code",
        "colab": {
          "base_uri": "https://localhost:8080/",
          "height": 235
        },
        "outputId": "a50c6015-b7b2-43b6-c82c-72d9608470d7"
      },
      "source": [
        "# 2. Using groupby() to create a new DataFrame showing the sum of the fares \n",
        "#  for each date where the indices are the city type and date.\n",
        "new_df = pyber_data_df.groupby([\"type\", \"date\"]).sum()[[\"fare\"]]\n",
        "new_df.head()"
      ],
      "execution_count": 226,
      "outputs": [
        {
          "output_type": "execute_result",
          "data": {
            "text/html": [
              "<div>\n",
              "<style scoped>\n",
              "    .dataframe tbody tr th:only-of-type {\n",
              "        vertical-align: middle;\n",
              "    }\n",
              "\n",
              "    .dataframe tbody tr th {\n",
              "        vertical-align: top;\n",
              "    }\n",
              "\n",
              "    .dataframe thead th {\n",
              "        text-align: right;\n",
              "    }\n",
              "</style>\n",
              "<table border=\"1\" class=\"dataframe\">\n",
              "  <thead>\n",
              "    <tr style=\"text-align: right;\">\n",
              "      <th></th>\n",
              "      <th></th>\n",
              "      <th>fare</th>\n",
              "    </tr>\n",
              "    <tr>\n",
              "      <th>type</th>\n",
              "      <th>date</th>\n",
              "      <th></th>\n",
              "    </tr>\n",
              "  </thead>\n",
              "  <tbody>\n",
              "    <tr>\n",
              "      <th rowspan=\"5\" valign=\"top\">Rural</th>\n",
              "      <th>2019-01-01 09:45:36</th>\n",
              "      <td>43.69</td>\n",
              "    </tr>\n",
              "    <tr>\n",
              "      <th>2019-01-02 11:18:32</th>\n",
              "      <td>52.12</td>\n",
              "    </tr>\n",
              "    <tr>\n",
              "      <th>2019-01-03 19:51:01</th>\n",
              "      <td>19.90</td>\n",
              "    </tr>\n",
              "    <tr>\n",
              "      <th>2019-01-04 03:31:26</th>\n",
              "      <td>24.88</td>\n",
              "    </tr>\n",
              "    <tr>\n",
              "      <th>2019-01-06 07:38:40</th>\n",
              "      <td>47.33</td>\n",
              "    </tr>\n",
              "  </tbody>\n",
              "</table>\n",
              "</div>"
            ],
            "text/plain": [
              "                            fare\n",
              "type  date                      \n",
              "Rural 2019-01-01 09:45:36  43.69\n",
              "      2019-01-02 11:18:32  52.12\n",
              "      2019-01-03 19:51:01  19.90\n",
              "      2019-01-04 03:31:26  24.88\n",
              "      2019-01-06 07:38:40  47.33"
            ]
          },
          "metadata": {
            "tags": []
          },
          "execution_count": 226
        }
      ]
    },
    {
      "cell_type": "code",
      "metadata": {
        "id": "iw5IfjyV2SPQ",
        "colab_type": "code",
        "colab": {}
      },
      "source": [
        "# 3. Reset the index on the DataFrame you created in #1. This is needed to use the 'pivot()' function.\n",
        "df = new_df.reset_index()"
      ],
      "execution_count": 227,
      "outputs": []
    },
    {
      "cell_type": "code",
      "metadata": {
        "id": "HrMkEadr2SPR",
        "colab_type": "code",
        "colab": {
          "base_uri": "https://localhost:8080/",
          "height": 450
        },
        "outputId": "bdbbf2bc-1fbc-472e-a770-31e834a8dad8"
      },
      "source": [
        "# 4. Create a pivot table with the 'date' as the index, the columns ='type', and values='fare' \n",
        "# to get the total fares for each type of city by the date. \n",
        "table = pd.pivot_table(new_df, values='fare', index=['date'],\n",
        "                    columns=['type'], aggfunc=np.sum)\n",
        "table"
      ],
      "execution_count": 228,
      "outputs": [
        {
          "output_type": "execute_result",
          "data": {
            "text/html": [
              "<div>\n",
              "<style scoped>\n",
              "    .dataframe tbody tr th:only-of-type {\n",
              "        vertical-align: middle;\n",
              "    }\n",
              "\n",
              "    .dataframe tbody tr th {\n",
              "        vertical-align: top;\n",
              "    }\n",
              "\n",
              "    .dataframe thead th {\n",
              "        text-align: right;\n",
              "    }\n",
              "</style>\n",
              "<table border=\"1\" class=\"dataframe\">\n",
              "  <thead>\n",
              "    <tr style=\"text-align: right;\">\n",
              "      <th>type</th>\n",
              "      <th>Rural</th>\n",
              "      <th>Suburban</th>\n",
              "      <th>Urban</th>\n",
              "    </tr>\n",
              "    <tr>\n",
              "      <th>date</th>\n",
              "      <th></th>\n",
              "      <th></th>\n",
              "      <th></th>\n",
              "    </tr>\n",
              "  </thead>\n",
              "  <tbody>\n",
              "    <tr>\n",
              "      <th>2019-01-01 00:08:16</th>\n",
              "      <td>NaN</td>\n",
              "      <td>NaN</td>\n",
              "      <td>37.91</td>\n",
              "    </tr>\n",
              "    <tr>\n",
              "      <th>2019-01-01 00:46:46</th>\n",
              "      <td>NaN</td>\n",
              "      <td>47.74</td>\n",
              "      <td>NaN</td>\n",
              "    </tr>\n",
              "    <tr>\n",
              "      <th>2019-01-01 02:07:24</th>\n",
              "      <td>NaN</td>\n",
              "      <td>24.07</td>\n",
              "      <td>NaN</td>\n",
              "    </tr>\n",
              "    <tr>\n",
              "      <th>2019-01-01 03:46:50</th>\n",
              "      <td>NaN</td>\n",
              "      <td>NaN</td>\n",
              "      <td>7.57</td>\n",
              "    </tr>\n",
              "    <tr>\n",
              "      <th>2019-01-01 05:23:21</th>\n",
              "      <td>NaN</td>\n",
              "      <td>NaN</td>\n",
              "      <td>10.75</td>\n",
              "    </tr>\n",
              "    <tr>\n",
              "      <th>...</th>\n",
              "      <td>...</td>\n",
              "      <td>...</td>\n",
              "      <td>...</td>\n",
              "    </tr>\n",
              "    <tr>\n",
              "      <th>2019-05-08 04:20:00</th>\n",
              "      <td>NaN</td>\n",
              "      <td>NaN</td>\n",
              "      <td>21.99</td>\n",
              "    </tr>\n",
              "    <tr>\n",
              "      <th>2019-05-08 04:39:49</th>\n",
              "      <td>NaN</td>\n",
              "      <td>NaN</td>\n",
              "      <td>18.45</td>\n",
              "    </tr>\n",
              "    <tr>\n",
              "      <th>2019-05-08 07:29:01</th>\n",
              "      <td>NaN</td>\n",
              "      <td>NaN</td>\n",
              "      <td>18.55</td>\n",
              "    </tr>\n",
              "    <tr>\n",
              "      <th>2019-05-08 11:38:35</th>\n",
              "      <td>NaN</td>\n",
              "      <td>NaN</td>\n",
              "      <td>19.77</td>\n",
              "    </tr>\n",
              "    <tr>\n",
              "      <th>2019-05-08 13:10:18</th>\n",
              "      <td>NaN</td>\n",
              "      <td>NaN</td>\n",
              "      <td>18.04</td>\n",
              "    </tr>\n",
              "  </tbody>\n",
              "</table>\n",
              "<p>2375 rows × 3 columns</p>\n",
              "</div>"
            ],
            "text/plain": [
              "type                 Rural  Suburban  Urban\n",
              "date                                       \n",
              "2019-01-01 00:08:16    NaN       NaN  37.91\n",
              "2019-01-01 00:46:46    NaN     47.74    NaN\n",
              "2019-01-01 02:07:24    NaN     24.07    NaN\n",
              "2019-01-01 03:46:50    NaN       NaN   7.57\n",
              "2019-01-01 05:23:21    NaN       NaN  10.75\n",
              "...                    ...       ...    ...\n",
              "2019-05-08 04:20:00    NaN       NaN  21.99\n",
              "2019-05-08 04:39:49    NaN       NaN  18.45\n",
              "2019-05-08 07:29:01    NaN       NaN  18.55\n",
              "2019-05-08 11:38:35    NaN       NaN  19.77\n",
              "2019-05-08 13:10:18    NaN       NaN  18.04\n",
              "\n",
              "[2375 rows x 3 columns]"
            ]
          },
          "metadata": {
            "tags": []
          },
          "execution_count": 228
        }
      ]
    },
    {
      "cell_type": "code",
      "metadata": {
        "id": "O9NZW2lX2SPT",
        "colab_type": "code",
        "colab": {
          "base_uri": "https://localhost:8080/",
          "height": 450
        },
        "outputId": "b71bae24-24e1-41b3-e19d-6eacc9edf33d"
      },
      "source": [
        "# 5. Create a new DataFrame from the pivot table DataFrame using loc on the given dates, '2019-01-01':'2019-04-29'.\n",
        "new_pivot_df = table.loc['2019-01-01':'2019-04-29']\n",
        "new_pivot_df"
      ],
      "execution_count": 229,
      "outputs": [
        {
          "output_type": "execute_result",
          "data": {
            "text/html": [
              "<div>\n",
              "<style scoped>\n",
              "    .dataframe tbody tr th:only-of-type {\n",
              "        vertical-align: middle;\n",
              "    }\n",
              "\n",
              "    .dataframe tbody tr th {\n",
              "        vertical-align: top;\n",
              "    }\n",
              "\n",
              "    .dataframe thead th {\n",
              "        text-align: right;\n",
              "    }\n",
              "</style>\n",
              "<table border=\"1\" class=\"dataframe\">\n",
              "  <thead>\n",
              "    <tr style=\"text-align: right;\">\n",
              "      <th>type</th>\n",
              "      <th>Rural</th>\n",
              "      <th>Suburban</th>\n",
              "      <th>Urban</th>\n",
              "    </tr>\n",
              "    <tr>\n",
              "      <th>date</th>\n",
              "      <th></th>\n",
              "      <th></th>\n",
              "      <th></th>\n",
              "    </tr>\n",
              "  </thead>\n",
              "  <tbody>\n",
              "    <tr>\n",
              "      <th>2019-01-01 00:08:16</th>\n",
              "      <td>NaN</td>\n",
              "      <td>NaN</td>\n",
              "      <td>37.91</td>\n",
              "    </tr>\n",
              "    <tr>\n",
              "      <th>2019-01-01 00:46:46</th>\n",
              "      <td>NaN</td>\n",
              "      <td>47.74</td>\n",
              "      <td>NaN</td>\n",
              "    </tr>\n",
              "    <tr>\n",
              "      <th>2019-01-01 02:07:24</th>\n",
              "      <td>NaN</td>\n",
              "      <td>24.07</td>\n",
              "      <td>NaN</td>\n",
              "    </tr>\n",
              "    <tr>\n",
              "      <th>2019-01-01 03:46:50</th>\n",
              "      <td>NaN</td>\n",
              "      <td>NaN</td>\n",
              "      <td>7.57</td>\n",
              "    </tr>\n",
              "    <tr>\n",
              "      <th>2019-01-01 05:23:21</th>\n",
              "      <td>NaN</td>\n",
              "      <td>NaN</td>\n",
              "      <td>10.75</td>\n",
              "    </tr>\n",
              "    <tr>\n",
              "      <th>...</th>\n",
              "      <td>...</td>\n",
              "      <td>...</td>\n",
              "      <td>...</td>\n",
              "    </tr>\n",
              "    <tr>\n",
              "      <th>2019-04-28 14:28:36</th>\n",
              "      <td>NaN</td>\n",
              "      <td>NaN</td>\n",
              "      <td>11.46</td>\n",
              "    </tr>\n",
              "    <tr>\n",
              "      <th>2019-04-28 16:29:16</th>\n",
              "      <td>NaN</td>\n",
              "      <td>NaN</td>\n",
              "      <td>36.42</td>\n",
              "    </tr>\n",
              "    <tr>\n",
              "      <th>2019-04-28 17:26:52</th>\n",
              "      <td>NaN</td>\n",
              "      <td>NaN</td>\n",
              "      <td>31.43</td>\n",
              "    </tr>\n",
              "    <tr>\n",
              "      <th>2019-04-28 17:38:09</th>\n",
              "      <td>NaN</td>\n",
              "      <td>34.87</td>\n",
              "      <td>NaN</td>\n",
              "    </tr>\n",
              "    <tr>\n",
              "      <th>2019-04-28 19:35:03</th>\n",
              "      <td>NaN</td>\n",
              "      <td>16.96</td>\n",
              "      <td>NaN</td>\n",
              "    </tr>\n",
              "  </tbody>\n",
              "</table>\n",
              "<p>2196 rows × 3 columns</p>\n",
              "</div>"
            ],
            "text/plain": [
              "type                 Rural  Suburban  Urban\n",
              "date                                       \n",
              "2019-01-01 00:08:16    NaN       NaN  37.91\n",
              "2019-01-01 00:46:46    NaN     47.74    NaN\n",
              "2019-01-01 02:07:24    NaN     24.07    NaN\n",
              "2019-01-01 03:46:50    NaN       NaN   7.57\n",
              "2019-01-01 05:23:21    NaN       NaN  10.75\n",
              "...                    ...       ...    ...\n",
              "2019-04-28 14:28:36    NaN       NaN  11.46\n",
              "2019-04-28 16:29:16    NaN       NaN  36.42\n",
              "2019-04-28 17:26:52    NaN       NaN  31.43\n",
              "2019-04-28 17:38:09    NaN     34.87    NaN\n",
              "2019-04-28 19:35:03    NaN     16.96    NaN\n",
              "\n",
              "[2196 rows x 3 columns]"
            ]
          },
          "metadata": {
            "tags": []
          },
          "execution_count": 229
        }
      ]
    },
    {
      "cell_type": "code",
      "metadata": {
        "id": "7hUo9G_a2SPV",
        "colab_type": "code",
        "colab": {
          "base_uri": "https://localhost:8080/",
          "height": 450
        },
        "outputId": "8f249e85-991e-43e9-c583-be2ab1386e78"
      },
      "source": [
        "# 6. Set the \"date\" index to datetime datatype. This is necessary to use the resample() method in Step 8.\n",
        "new_pivot_df.index = pd.to_datetime(new_pivot_df.index)\n",
        "new_pivot_df"
      ],
      "execution_count": 230,
      "outputs": [
        {
          "output_type": "execute_result",
          "data": {
            "text/html": [
              "<div>\n",
              "<style scoped>\n",
              "    .dataframe tbody tr th:only-of-type {\n",
              "        vertical-align: middle;\n",
              "    }\n",
              "\n",
              "    .dataframe tbody tr th {\n",
              "        vertical-align: top;\n",
              "    }\n",
              "\n",
              "    .dataframe thead th {\n",
              "        text-align: right;\n",
              "    }\n",
              "</style>\n",
              "<table border=\"1\" class=\"dataframe\">\n",
              "  <thead>\n",
              "    <tr style=\"text-align: right;\">\n",
              "      <th>type</th>\n",
              "      <th>Rural</th>\n",
              "      <th>Suburban</th>\n",
              "      <th>Urban</th>\n",
              "    </tr>\n",
              "    <tr>\n",
              "      <th>date</th>\n",
              "      <th></th>\n",
              "      <th></th>\n",
              "      <th></th>\n",
              "    </tr>\n",
              "  </thead>\n",
              "  <tbody>\n",
              "    <tr>\n",
              "      <th>2019-01-01 00:08:16</th>\n",
              "      <td>NaN</td>\n",
              "      <td>NaN</td>\n",
              "      <td>37.91</td>\n",
              "    </tr>\n",
              "    <tr>\n",
              "      <th>2019-01-01 00:46:46</th>\n",
              "      <td>NaN</td>\n",
              "      <td>47.74</td>\n",
              "      <td>NaN</td>\n",
              "    </tr>\n",
              "    <tr>\n",
              "      <th>2019-01-01 02:07:24</th>\n",
              "      <td>NaN</td>\n",
              "      <td>24.07</td>\n",
              "      <td>NaN</td>\n",
              "    </tr>\n",
              "    <tr>\n",
              "      <th>2019-01-01 03:46:50</th>\n",
              "      <td>NaN</td>\n",
              "      <td>NaN</td>\n",
              "      <td>7.57</td>\n",
              "    </tr>\n",
              "    <tr>\n",
              "      <th>2019-01-01 05:23:21</th>\n",
              "      <td>NaN</td>\n",
              "      <td>NaN</td>\n",
              "      <td>10.75</td>\n",
              "    </tr>\n",
              "    <tr>\n",
              "      <th>...</th>\n",
              "      <td>...</td>\n",
              "      <td>...</td>\n",
              "      <td>...</td>\n",
              "    </tr>\n",
              "    <tr>\n",
              "      <th>2019-04-28 14:28:36</th>\n",
              "      <td>NaN</td>\n",
              "      <td>NaN</td>\n",
              "      <td>11.46</td>\n",
              "    </tr>\n",
              "    <tr>\n",
              "      <th>2019-04-28 16:29:16</th>\n",
              "      <td>NaN</td>\n",
              "      <td>NaN</td>\n",
              "      <td>36.42</td>\n",
              "    </tr>\n",
              "    <tr>\n",
              "      <th>2019-04-28 17:26:52</th>\n",
              "      <td>NaN</td>\n",
              "      <td>NaN</td>\n",
              "      <td>31.43</td>\n",
              "    </tr>\n",
              "    <tr>\n",
              "      <th>2019-04-28 17:38:09</th>\n",
              "      <td>NaN</td>\n",
              "      <td>34.87</td>\n",
              "      <td>NaN</td>\n",
              "    </tr>\n",
              "    <tr>\n",
              "      <th>2019-04-28 19:35:03</th>\n",
              "      <td>NaN</td>\n",
              "      <td>16.96</td>\n",
              "      <td>NaN</td>\n",
              "    </tr>\n",
              "  </tbody>\n",
              "</table>\n",
              "<p>2196 rows × 3 columns</p>\n",
              "</div>"
            ],
            "text/plain": [
              "type                 Rural  Suburban  Urban\n",
              "date                                       \n",
              "2019-01-01 00:08:16    NaN       NaN  37.91\n",
              "2019-01-01 00:46:46    NaN     47.74    NaN\n",
              "2019-01-01 02:07:24    NaN     24.07    NaN\n",
              "2019-01-01 03:46:50    NaN       NaN   7.57\n",
              "2019-01-01 05:23:21    NaN       NaN  10.75\n",
              "...                    ...       ...    ...\n",
              "2019-04-28 14:28:36    NaN       NaN  11.46\n",
              "2019-04-28 16:29:16    NaN       NaN  36.42\n",
              "2019-04-28 17:26:52    NaN       NaN  31.43\n",
              "2019-04-28 17:38:09    NaN     34.87    NaN\n",
              "2019-04-28 19:35:03    NaN     16.96    NaN\n",
              "\n",
              "[2196 rows x 3 columns]"
            ]
          },
          "metadata": {
            "tags": []
          },
          "execution_count": 230
        }
      ]
    },
    {
      "cell_type": "code",
      "metadata": {
        "id": "zesE9pht2SPX",
        "colab_type": "code",
        "colab": {
          "base_uri": "https://localhost:8080/",
          "height": 187
        },
        "outputId": "fc4103ba-f431-4230-8ee9-6692c4e78930"
      },
      "source": [
        "# 7. Check that the datatype for the index is datetime using df.info()\n",
        "df.info()"
      ],
      "execution_count": 231,
      "outputs": [
        {
          "output_type": "stream",
          "text": [
            "<class 'pandas.core.frame.DataFrame'>\n",
            "RangeIndex: 2375 entries, 0 to 2374\n",
            "Data columns (total 3 columns):\n",
            " #   Column  Non-Null Count  Dtype  \n",
            "---  ------  --------------  -----  \n",
            " 0   type    2375 non-null   object \n",
            " 1   date    2375 non-null   object \n",
            " 2   fare    2375 non-null   float64\n",
            "dtypes: float64(1), object(2)\n",
            "memory usage: 55.8+ KB\n"
          ],
          "name": "stdout"
        }
      ]
    },
    {
      "cell_type": "code",
      "metadata": {
        "id": "-uT48cv02SPY",
        "colab_type": "code",
        "colab": {
          "base_uri": "https://localhost:8080/",
          "height": 607
        },
        "outputId": "7f58d59f-19dc-450b-d73a-f0ce5d0a84ed"
      },
      "source": [
        "# 8. Create a new DataFrame using the \"resample()\" function by week 'W' and get the sum of the fares for each week.\n",
        "df3 = new_pivot_df.resample('W').sum()\n",
        "df3"
      ],
      "execution_count": 232,
      "outputs": [
        {
          "output_type": "execute_result",
          "data": {
            "text/html": [
              "<div>\n",
              "<style scoped>\n",
              "    .dataframe tbody tr th:only-of-type {\n",
              "        vertical-align: middle;\n",
              "    }\n",
              "\n",
              "    .dataframe tbody tr th {\n",
              "        vertical-align: top;\n",
              "    }\n",
              "\n",
              "    .dataframe thead th {\n",
              "        text-align: right;\n",
              "    }\n",
              "</style>\n",
              "<table border=\"1\" class=\"dataframe\">\n",
              "  <thead>\n",
              "    <tr style=\"text-align: right;\">\n",
              "      <th>type</th>\n",
              "      <th>Rural</th>\n",
              "      <th>Suburban</th>\n",
              "      <th>Urban</th>\n",
              "    </tr>\n",
              "    <tr>\n",
              "      <th>date</th>\n",
              "      <th></th>\n",
              "      <th></th>\n",
              "      <th></th>\n",
              "    </tr>\n",
              "  </thead>\n",
              "  <tbody>\n",
              "    <tr>\n",
              "      <th>2019-01-06</th>\n",
              "      <td>187.92</td>\n",
              "      <td>721.60</td>\n",
              "      <td>1661.68</td>\n",
              "    </tr>\n",
              "    <tr>\n",
              "      <th>2019-01-13</th>\n",
              "      <td>67.65</td>\n",
              "      <td>1105.13</td>\n",
              "      <td>2050.43</td>\n",
              "    </tr>\n",
              "    <tr>\n",
              "      <th>2019-01-20</th>\n",
              "      <td>306.00</td>\n",
              "      <td>1218.20</td>\n",
              "      <td>1939.02</td>\n",
              "    </tr>\n",
              "    <tr>\n",
              "      <th>2019-01-27</th>\n",
              "      <td>179.69</td>\n",
              "      <td>1203.28</td>\n",
              "      <td>2129.51</td>\n",
              "    </tr>\n",
              "    <tr>\n",
              "      <th>2019-02-03</th>\n",
              "      <td>333.08</td>\n",
              "      <td>1042.79</td>\n",
              "      <td>2086.94</td>\n",
              "    </tr>\n",
              "    <tr>\n",
              "      <th>2019-02-10</th>\n",
              "      <td>115.80</td>\n",
              "      <td>974.34</td>\n",
              "      <td>2162.64</td>\n",
              "    </tr>\n",
              "    <tr>\n",
              "      <th>2019-02-17</th>\n",
              "      <td>95.82</td>\n",
              "      <td>1045.50</td>\n",
              "      <td>2235.07</td>\n",
              "    </tr>\n",
              "    <tr>\n",
              "      <th>2019-02-24</th>\n",
              "      <td>419.06</td>\n",
              "      <td>1412.74</td>\n",
              "      <td>2466.29</td>\n",
              "    </tr>\n",
              "    <tr>\n",
              "      <th>2019-03-03</th>\n",
              "      <td>175.14</td>\n",
              "      <td>858.46</td>\n",
              "      <td>2218.20</td>\n",
              "    </tr>\n",
              "    <tr>\n",
              "      <th>2019-03-10</th>\n",
              "      <td>303.94</td>\n",
              "      <td>925.27</td>\n",
              "      <td>2470.93</td>\n",
              "    </tr>\n",
              "    <tr>\n",
              "      <th>2019-03-17</th>\n",
              "      <td>163.39</td>\n",
              "      <td>906.20</td>\n",
              "      <td>2044.42</td>\n",
              "    </tr>\n",
              "    <tr>\n",
              "      <th>2019-03-24</th>\n",
              "      <td>189.76</td>\n",
              "      <td>1122.20</td>\n",
              "      <td>2368.37</td>\n",
              "    </tr>\n",
              "    <tr>\n",
              "      <th>2019-03-31</th>\n",
              "      <td>199.42</td>\n",
              "      <td>1045.06</td>\n",
              "      <td>1942.77</td>\n",
              "    </tr>\n",
              "    <tr>\n",
              "      <th>2019-04-07</th>\n",
              "      <td>501.24</td>\n",
              "      <td>1010.73</td>\n",
              "      <td>2356.70</td>\n",
              "    </tr>\n",
              "    <tr>\n",
              "      <th>2019-04-14</th>\n",
              "      <td>269.79</td>\n",
              "      <td>784.82</td>\n",
              "      <td>2390.72</td>\n",
              "    </tr>\n",
              "    <tr>\n",
              "      <th>2019-04-21</th>\n",
              "      <td>214.14</td>\n",
              "      <td>1149.27</td>\n",
              "      <td>2303.80</td>\n",
              "    </tr>\n",
              "    <tr>\n",
              "      <th>2019-04-28</th>\n",
              "      <td>191.85</td>\n",
              "      <td>1357.75</td>\n",
              "      <td>2238.29</td>\n",
              "    </tr>\n",
              "  </tbody>\n",
              "</table>\n",
              "</div>"
            ],
            "text/plain": [
              "type         Rural  Suburban    Urban\n",
              "date                                 \n",
              "2019-01-06  187.92    721.60  1661.68\n",
              "2019-01-13   67.65   1105.13  2050.43\n",
              "2019-01-20  306.00   1218.20  1939.02\n",
              "2019-01-27  179.69   1203.28  2129.51\n",
              "2019-02-03  333.08   1042.79  2086.94\n",
              "2019-02-10  115.80    974.34  2162.64\n",
              "2019-02-17   95.82   1045.50  2235.07\n",
              "2019-02-24  419.06   1412.74  2466.29\n",
              "2019-03-03  175.14    858.46  2218.20\n",
              "2019-03-10  303.94    925.27  2470.93\n",
              "2019-03-17  163.39    906.20  2044.42\n",
              "2019-03-24  189.76   1122.20  2368.37\n",
              "2019-03-31  199.42   1045.06  1942.77\n",
              "2019-04-07  501.24   1010.73  2356.70\n",
              "2019-04-14  269.79    784.82  2390.72\n",
              "2019-04-21  214.14   1149.27  2303.80\n",
              "2019-04-28  191.85   1357.75  2238.29"
            ]
          },
          "metadata": {
            "tags": []
          },
          "execution_count": 232
        }
      ]
    },
    {
      "cell_type": "code",
      "metadata": {
        "id": "wwnLb2dO2SPb",
        "colab_type": "code",
        "colab": {
          "base_uri": "https://localhost:8080/",
          "height": 416
        },
        "outputId": "3a8e9a14-bee4-4f09-fd7c-e0eee529e6ca"
      },
      "source": [
        "# 8. Using the object-oriented interface method, plot the resample DataFrame using the df.plot() function. \n",
        "from matplotlib import style\n",
        "style.use('fivethirtyeight')\n",
        "#graph = pf.plot\n",
        "df3.plot(figsize=(15,5))\n",
        "plt.xlabel(\"Date\")\n",
        "plt.ylabel(\"Fare($)\")\n",
        "plt.title(\"Total Fare by City Type\")"
      ],
      "execution_count": 233,
      "outputs": [
        {
          "output_type": "execute_result",
          "data": {
            "text/plain": [
              "Text(0.5, 1.0, 'Total Fare by City Type')"
            ]
          },
          "metadata": {
            "tags": []
          },
          "execution_count": 233
        },
        {
          "output_type": "display_data",
          "data": {
            "image/png": "[encoded data removed]",
            "text/plain": [
              "<Figure size 1080x360 with 1 Axes>"
            ]
          },
          "metadata": {
            "tags": []
          }
        }
      ]
    },
    {
      "cell_type": "code",
      "metadata": {
        "id": "iCavxA702SPc",
        "colab_type": "code",
        "colab": {}
      },
      "source": [
        ""
      ],
      "execution_count": 233,
      "outputs": []
    }
  ]
}